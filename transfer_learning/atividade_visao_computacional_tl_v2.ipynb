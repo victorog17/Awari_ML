{
  "nbformat": 4,
  "nbformat_minor": 0,
  "metadata": {
    "hide_input": false,
    "kernelspec": {
      "display_name": "Python 3",
      "language": "python",
      "name": "python3"
    },
    "language_info": {
      "codemirror_mode": {
        "name": "ipython",
        "version": 3
      },
      "file_extension": ".py",
      "mimetype": "text/x-python",
      "name": "python",
      "nbconvert_exporter": "python",
      "pygments_lexer": "ipython3",
      "version": "3.8.5"
    },
    "colab": {
      "name": "Cópia de atividade_visao_computacional_tl.ipynb",
      "provenance": [],
      "collapsed_sections": [],
      "include_colab_link": true
    }
  },
  "cells": [
    {
      "cell_type": "markdown",
      "metadata": {
        "id": "view-in-github",
        "colab_type": "text"
      },
      "source": [
        "<a href=\"https://colab.research.google.com/github/victorog17/Awari_ML/blob/main/C%C3%B3pia_de_atividade_visao_computacional_tl.ipynb\" target=\"_parent\"><img src=\"https://colab.research.google.com/assets/colab-badge.svg\" alt=\"Open In Colab\"/></a>"
      ]
    },
    {
      "cell_type": "code",
      "metadata": {
        "ExecuteTime": {
          "end_time": "2021-09-10T03:31:23.383570Z",
          "start_time": "2021-09-10T03:31:23.351576Z"
        },
        "id": "6-nEokTAMjUE"
      },
      "source": [
        "#Imports\n",
        "import os\n",
        "import numpy as np\n",
        "import matplotlib.pyplot as plt\n",
        "import tensorflow as tf\n",
        "from tensorflow.keras.models import Sequential\n",
        "from tensorflow.keras.layers import Dense\n",
        "from tensorflow.keras.optimizers import Adam\n",
        "from tensorflow.keras.preprocessing.image import ImageDataGenerator"
      ],
      "execution_count": null,
      "outputs": []
    },
    {
      "cell_type": "code",
      "metadata": {
        "ExecuteTime": {
          "end_time": "2021-09-10T02:48:58.201388Z",
          "start_time": "2021-09-10T02:48:36.684052Z"
        },
        "id": "0NXk6_eeMjUP",
        "colab": {
          "base_uri": "https://localhost:8080/"
        },
        "outputId": "d3d6441b-b28a-43b3-9e70-99165d03b0fa"
      },
      "source": [
        "import requests\n",
        "url = 'https://s3.amazonaws.com/fast-ai-imageclas/imagenette2-160.tgz'\n",
        "r = requests.get(url, allow_redirects=True)\n",
        "open('imagenette2-160.tgz', 'wb').write(r.content)"
      ],
      "execution_count": null,
      "outputs": [
        {
          "output_type": "execute_result",
          "data": {
            "text/plain": [
              "99003388"
            ]
          },
          "metadata": {},
          "execution_count": 2
        }
      ]
    },
    {
      "cell_type": "code",
      "metadata": {
        "ExecuteTime": {
          "end_time": "2021-09-10T02:49:09.025725Z",
          "start_time": "2021-09-10T02:49:08.989700Z"
        },
        "id": "fZ5gNkDAMjUQ",
        "colab": {
          "base_uri": "https://localhost:8080/"
        },
        "outputId": "dca3a5d9-9fa2-43a6-bdf0-a58c9fbd09a1"
      },
      "source": [
        "import sys, tarfile\n",
        "def extract(tar_url, extract_path='.'):\n",
        "    print(tar_url)\n",
        "    tar = tarfile.open(tar_url, 'r')\n",
        "    for item in tar:\n",
        "        tar.extract(item, extract_path)\n",
        "        if item.name.find(\".tgz\") != -1 or item.name.find(\".tar\") != -1:\n",
        "            extract(item.name, \"./\" + item.name[:item.name.rfind('/')])\n",
        "try:\n",
        "\n",
        "    extract(sys.argv[1] + '.tgz')\n",
        "    print('Done.')\n",
        "except:\n",
        "    name = os.path.basename(sys.argv[0])\n",
        "    print(name[:name.rfind('.')], '<filename>')"
      ],
      "execution_count": null,
      "outputs": [
        {
          "output_type": "stream",
          "name": "stdout",
          "text": [
            "-f.tgz\n",
            "ipykernel_launcher <filename>\n"
          ]
        }
      ]
    },
    {
      "cell_type": "code",
      "metadata": {
        "ExecuteTime": {
          "end_time": "2021-09-10T02:49:59.145814Z",
          "start_time": "2021-09-10T02:49:10.353302Z"
        },
        "id": "SpN1lJ4uMjUR",
        "colab": {
          "base_uri": "https://localhost:8080/"
        },
        "outputId": "baf56cb2-097d-4e26-c88e-70c2214c7327"
      },
      "source": [
        "extract('imagenette2-160.tgz')"
      ],
      "execution_count": null,
      "outputs": [
        {
          "output_type": "stream",
          "name": "stdout",
          "text": [
            "imagenette2-160.tgz\n"
          ]
        }
      ]
    },
    {
      "cell_type": "code",
      "metadata": {
        "ExecuteTime": {
          "end_time": "2021-09-10T02:49:59.300805Z",
          "start_time": "2021-09-10T02:49:59.149806Z"
        },
        "id": "x7PnV7-PMjUS",
        "colab": {
          "base_uri": "https://localhost:8080/"
        },
        "outputId": "86a1f766-dc77-4cd9-f234-40931c983f19"
      },
      "source": [
        "train_img_datagen = ImageDataGenerator(rescale=1./255)\n",
        "val_img_datagen = ImageDataGenerator(rescale=1./255)\n",
        "\n",
        "train_set = train_img_datagen.flow_from_directory('imagenette2-160/train',\n",
        "                                                 target_size=(160,160),\n",
        "                                                 batch_size=64,\n",
        "                                                 class_mode='categorical')\n",
        "\n",
        "val_set = val_img_datagen.flow_from_directory('imagenette2-160/val',\n",
        "                                                 target_size=(160,160),\n",
        "                                                 batch_size=64,\n",
        "                                                 class_mode='categorical')"
      ],
      "execution_count": null,
      "outputs": [
        {
          "output_type": "stream",
          "name": "stdout",
          "text": [
            "Found 9469 images belonging to 10 classes.\n",
            "Found 3925 images belonging to 10 classes.\n"
          ]
        }
      ]
    },
    {
      "cell_type": "code",
      "metadata": {
        "ExecuteTime": {
          "end_time": "2021-09-10T02:49:59.305809Z",
          "start_time": "2021-09-10T02:49:32.791Z"
        },
        "id": "ocv7XsliMjUT",
        "colab": {
          "base_uri": "https://localhost:8080/"
        },
        "outputId": "bd3c71e4-2c89-46fb-dca5-feacaec0a264"
      },
      "source": [
        "base_model = tf.keras.applications.ResNet50(input_shape=(160,160,3), include_top=False, weights='imagenet', pooling='avg')"
      ],
      "execution_count": null,
      "outputs": [
        {
          "output_type": "stream",
          "name": "stdout",
          "text": [
            "Downloading data from https://storage.googleapis.com/tensorflow/keras-applications/resnet/resnet50_weights_tf_dim_ordering_tf_kernels_notop.h5\n",
            "94773248/94765736 [==============================] - 1s 0us/step\n",
            "94781440/94765736 [==============================] - 1s 0us/step\n"
          ]
        }
      ]
    },
    {
      "cell_type": "code",
      "metadata": {
        "ExecuteTime": {
          "end_time": "2021-09-10T02:49:59.308804Z",
          "start_time": "2021-09-10T02:49:42.882Z"
        },
        "id": "qS7N0YOPMjUU"
      },
      "source": [
        "model = Sequential()\n",
        "model.add(base_model)\n",
        "model.add(Dense(10,activation='softmax'))"
      ],
      "execution_count": null,
      "outputs": []
    },
    {
      "cell_type": "code",
      "metadata": {
        "ExecuteTime": {
          "end_time": "2021-09-10T02:49:59.310804Z",
          "start_time": "2021-09-10T02:49:49.125Z"
        },
        "id": "xR4v8p9RMjUU",
        "colab": {
          "base_uri": "https://localhost:8080/"
        },
        "outputId": "80ea5fe5-8244-40ee-8900-c34dd1fc4003"
      },
      "source": [
        "model.summary()"
      ],
      "execution_count": null,
      "outputs": [
        {
          "output_type": "stream",
          "name": "stdout",
          "text": [
            "Model: \"sequential\"\n",
            "_________________________________________________________________\n",
            "Layer (type)                 Output Shape              Param #   \n",
            "=================================================================\n",
            "resnet50 (Functional)        (None, 2048)              23587712  \n",
            "_________________________________________________________________\n",
            "dense (Dense)                (None, 10)                20490     \n",
            "=================================================================\n",
            "Total params: 23,608,202\n",
            "Trainable params: 23,555,082\n",
            "Non-trainable params: 53,120\n",
            "_________________________________________________________________\n"
          ]
        }
      ]
    },
    {
      "cell_type": "code",
      "metadata": {
        "id": "pavNfbB2MjUV"
      },
      "source": [
        "model.compile(loss='categorical_crossentropy', optimizer=Adam(learning_rate=0.001, decay=1e-6), metrics=['accuracy'])"
      ],
      "execution_count": null,
      "outputs": []
    },
    {
      "cell_type": "code",
      "metadata": {
        "id": "cTWZRCtZMjUV"
      },
      "source": [
        "try: \n",
        "    os.mkdir('./checkpoint')\n",
        "except:\n",
        "    pass"
      ],
      "execution_count": null,
      "outputs": []
    },
    {
      "cell_type": "code",
      "metadata": {
        "id": "TQCez2g6MjUW"
      },
      "source": [
        "file_name = 'best_model_tl.h5'\n",
        "checkpoint_path = os.path.join('./checkpoint',file_name)\n",
        "\n",
        "call_back = tf.keras.callbacks.ModelCheckpoint(filepath=checkpoint_path, \n",
        "                                                 monitor='val_accuracy', \n",
        "                                                 verbose=1,\n",
        "                                                 save_freq='epoch',\n",
        "                                                 save_best_only=True, \n",
        "                                                 save_weights_only=False, \n",
        "                                                 mode='max')"
      ],
      "execution_count": null,
      "outputs": []
    },
    {
      "cell_type": "code",
      "metadata": {
        "id": "BfOoTviJMjUW",
        "colab": {
          "base_uri": "https://localhost:8080/"
        },
        "outputId": "05389fe8-3935-44f2-b0c6-b68e6d2a3956"
      },
      "source": [
        "model_info = model.fit(train_set, epochs=10, validation_data=val_set, callbacks=call_back)"
      ],
      "execution_count": null,
      "outputs": [
        {
          "output_type": "stream",
          "name": "stdout",
          "text": [
            "Epoch 1/10\n",
            "148/148 [==============================] - 2827s 19s/step - loss: 0.7356 - accuracy: 0.7925 - val_loss: 2.8314 - val_accuracy: 0.1042\n",
            "\n",
            "Epoch 00001: val_accuracy improved from -inf to 0.10420, saving model to ./checkpoint/best_model_tl.h5\n"
          ]
        },
        {
          "output_type": "stream",
          "name": "stderr",
          "text": [
            "/usr/local/lib/python3.7/dist-packages/keras/utils/generic_utils.py:497: CustomMaskWarning: Custom mask layers require a config and must override get_config. When loading, the custom mask layer must be passed to the custom_objects argument.\n",
            "  category=CustomMaskWarning)\n"
          ]
        },
        {
          "output_type": "stream",
          "name": "stdout",
          "text": [
            "Epoch 2/10\n",
            "148/148 [==============================] - 2843s 19s/step - loss: 0.3108 - accuracy: 0.9033 - val_loss: 2.8312 - val_accuracy: 0.0994\n",
            "\n",
            "Epoch 00002: val_accuracy did not improve from 0.10420\n",
            "Epoch 3/10\n",
            "148/148 [==============================] - 2873s 19s/step - loss: 0.2414 - accuracy: 0.9220 - val_loss: 2.4369 - val_accuracy: 0.1027\n",
            "\n",
            "Epoch 00003: val_accuracy did not improve from 0.10420\n",
            "Epoch 4/10\n",
            "148/148 [==============================] - 2887s 20s/step - loss: 0.2046 - accuracy: 0.9355 - val_loss: 2.3995 - val_accuracy: 0.2140\n",
            "\n",
            "Epoch 00004: val_accuracy improved from 0.10420 to 0.21401, saving model to ./checkpoint/best_model_tl.h5\n",
            "Epoch 5/10\n",
            "148/148 [==============================] - 2873s 19s/step - loss: 0.1129 - accuracy: 0.9655 - val_loss: 1.4433 - val_accuracy: 0.5340\n",
            "\n",
            "Epoch 00005: val_accuracy improved from 0.21401 to 0.53401, saving model to ./checkpoint/best_model_tl.h5\n",
            "Epoch 6/10\n",
            "148/148 [==============================] - 2866s 19s/step - loss: 0.0639 - accuracy: 0.9797 - val_loss: 0.8808 - val_accuracy: 0.7656\n",
            "\n",
            "Epoch 00006: val_accuracy improved from 0.53401 to 0.76561, saving model to ./checkpoint/best_model_tl.h5\n",
            "Epoch 7/10\n",
            "148/148 [==============================] - 2848s 19s/step - loss: 0.0786 - accuracy: 0.9739 - val_loss: 2.3924 - val_accuracy: 0.5738\n",
            "\n",
            "Epoch 00007: val_accuracy did not improve from 0.76561\n",
            "Epoch 8/10\n",
            "148/148 [==============================] - 2864s 19s/step - loss: 0.1029 - accuracy: 0.9659 - val_loss: 1.3674 - val_accuracy: 0.6680\n",
            "\n",
            "Epoch 00008: val_accuracy did not improve from 0.76561\n",
            "Epoch 9/10\n",
            "148/148 [==============================] - 2856s 19s/step - loss: 0.0642 - accuracy: 0.9790 - val_loss: 1.3077 - val_accuracy: 0.6841\n",
            "\n",
            "Epoch 00009: val_accuracy did not improve from 0.76561\n",
            "Epoch 10/10\n",
            "148/148 [==============================] - 2891s 20s/step - loss: 0.0606 - accuracy: 0.9809 - val_loss: 1.1158 - val_accuracy: 0.7304\n",
            "\n",
            "Epoch 00010: val_accuracy did not improve from 0.76561\n"
          ]
        }
      ]
    },
    {
      "cell_type": "code",
      "metadata": {
        "id": "kM-mq00PMjUW",
        "colab": {
          "base_uri": "https://localhost:8080/"
        },
        "outputId": "2d94b2c8-8fc5-41ae-d350-8d0e13961c40"
      },
      "source": [
        "#Saving the model\n",
        "model.save('./model_tl.h5')"
      ],
      "execution_count": null,
      "outputs": [
        {
          "output_type": "stream",
          "name": "stderr",
          "text": [
            "/usr/local/lib/python3.7/dist-packages/keras/utils/generic_utils.py:497: CustomMaskWarning: Custom mask layers require a config and must override get_config. When loading, the custom mask layer must be passed to the custom_objects argument.\n",
            "  category=CustomMaskWarning)\n"
          ]
        }
      ]
    },
    {
      "cell_type": "code",
      "metadata": {
        "id": "m8tN309tMjUX"
      },
      "source": [
        "# plots accuracy and loss curves\n",
        "def plot_model_history(model_history):\n",
        "    \"\"\"\n",
        "    Plot Accuracy and Loss curves given the model_history\n",
        "    \"\"\"\n",
        "    fig, axs = plt.subplots(1,2,figsize=(15,5))\n",
        "    # summarize history for accuracy\n",
        "    axs[0].plot(range(1,len(model_history.history['accuracy'])+1),model_history.history['accuracy'])\n",
        "    axs[0].plot(range(1,len(model_history.history['val_accuracy'])+1),model_history.history['val_accuracy'])\n",
        "    axs[0].set_title('Model Accuracy')\n",
        "    axs[0].set_ylabel('Accuracy')\n",
        "    axs[0].set_xlabel('Epoch')\n",
        "    axs[0].set_xticks(np.arange(1,len(model_history.history['accuracy'])+1),len(model_history.history['accuracy'])/10)\n",
        "    axs[0].legend(['train', 'val'], loc='best')\n",
        "    # summarize history for loss\n",
        "    axs[1].plot(range(1,len(model_history.history['loss'])+1),model_history.history['loss'])\n",
        "    axs[1].plot(range(1,len(model_history.history['val_loss'])+1),model_history.history['val_loss'])\n",
        "    axs[1].set_title('Model Loss')\n",
        "    axs[1].set_ylabel('Loss')\n",
        "    axs[1].set_xlabel('Epoch')\n",
        "    axs[1].set_xticks(np.arange(1,len(model_history.history['loss'])+1),len(model_history.history['loss'])/10)\n",
        "    axs[1].legend(['train', 'val'], loc='best')\n",
        "    fig.savefig('plot.png')\n",
        "    plt.show()"
      ],
      "execution_count": null,
      "outputs": []
    },
    {
      "cell_type": "code",
      "metadata": {
        "id": "fbC9Jz1ZMjUY",
        "colab": {
          "base_uri": "https://localhost:8080/",
          "height": 421
        },
        "outputId": "69567125-6736-4069-bc4b-7ebef66bf0b0"
      },
      "source": [
        "plot_model_history(model_info)"
      ],
      "execution_count": null,
      "outputs": [
        {
          "output_type": "stream",
          "name": "stderr",
          "text": [
            "/usr/local/lib/python3.7/dist-packages/ipykernel_launcher.py:13: MatplotlibDeprecationWarning: Passing the minor parameter of set_xticks() positionally is deprecated since Matplotlib 3.2; the parameter will become keyword-only two minor releases later.\n",
            "  del sys.path[0]\n",
            "/usr/local/lib/python3.7/dist-packages/ipykernel_launcher.py:21: MatplotlibDeprecationWarning: Passing the minor parameter of set_xticks() positionally is deprecated since Matplotlib 3.2; the parameter will become keyword-only two minor releases later.\n"
          ]
        },
        {
          "output_type": "display_data",
          "data": {
            "image/png": "[encoded data removed]",
            "text/plain": [
              "<Figure size 1080x360 with 2 Axes>"
            ]
          },
          "metadata": {
            "needs_background": "light"
          }
        }
      ]
    },
    {
      "cell_type": "code",
      "metadata": {
        "id": "mKSD_ZUtMjUY"
      },
      "source": [
        ""
      ],
      "execution_count": null,
      "outputs": []
    }
  ]
}
