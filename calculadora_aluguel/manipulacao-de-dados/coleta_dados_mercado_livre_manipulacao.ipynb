{
 "cells": [
  {
   "cell_type": "code",
   "execution_count": 1,
   "metadata": {
    "ExecuteTime": {
     "end_time": "2021-09-10T02:06:03.669981Z",
     "start_time": "2021-09-10T02:06:02.730663Z"
    }
   },
   "outputs": [],
   "source": [
    "from time import sleep\n",
    "import pandas as pd\n",
    "from bs4 import BeautifulSoup\n",
    "import requests"
   ]
  },
  {
   "cell_type": "code",
   "execution_count": 2,
   "metadata": {
    "ExecuteTime": {
     "end_time": "2021-09-10T02:06:14.037407Z",
     "start_time": "2021-09-10T02:06:14.019405Z"
    }
   },
   "outputs": [],
   "source": [
    "zonas = ['sul', 'norte', 'leste', 'oeste']\n",
    "paginas = ['', '_Desde_49', '_Desde_97', '_Desde_145', '_Desde_193', '_Desde_241']"
   ]
  },
  {
   "cell_type": "code",
   "execution_count": 3,
   "metadata": {
    "ExecuteTime": {
     "end_time": "2021-09-10T02:06:35.554737Z",
     "start_time": "2021-09-10T02:06:35.538731Z"
    }
   },
   "outputs": [],
   "source": [
    "def coleta_dados(url, zona):\n",
    "  # acessar a url, coletar as informacoes e ir salvando nas listas e depois juntar as listas em uma tabela\n",
    "  res = requests.get(url).content\n",
    "  sopa = BeautifulSoup(res)\n",
    "  \n",
    "  rs_precos = sopa.find_all('span', {'class': 'price-tag-fraction'})\n",
    "  rs_areas_quartos = sopa.find_all('ul', {'class': 'ui-search-card-attributes ui-search-item__group__element'})\n",
    "\n",
    "  lista_precos = []\n",
    "  lista_areas_quartos = []\n",
    "  lista_zonas = []\n",
    "    \n",
    "  for preco, area_quarto in zip(rs_precos, rs_areas_quartos):\n",
    "    lista_precos.append(preco.text)\n",
    "    lista_areas_quartos.append(area_quarto.text)\n",
    "    lista_zonas.append(zona)\n",
    "    \n",
    "  dados = {'aluguel': lista_precos,\n",
    "  'area_quarto': lista_areas_quartos,\n",
    "  'zona': lista_zonas}\n",
    "    \n",
    "  df = pd.DataFrame(dados)\n",
    "\n",
    "  return df"
   ]
  },
  {
   "cell_type": "code",
   "execution_count": 4,
   "metadata": {
    "ExecuteTime": {
     "end_time": "2021-09-10T02:08:26.423571Z",
     "start_time": "2021-09-10T02:06:42.832030Z"
    }
   },
   "outputs": [
    {
     "name": "stdout",
     "output_type": "stream",
     "text": [
      "Coletando dados de https://imoveis.mercadolivre.com.br/apartamentos/aluguel/sao-paulo/sao-paulo-zona-sul/\n",
      "Coletando dados de https://imoveis.mercadolivre.com.br/apartamentos/aluguel/sao-paulo/sao-paulo-zona-sul/_Desde_49\n",
      "Coletando dados de https://imoveis.mercadolivre.com.br/apartamentos/aluguel/sao-paulo/sao-paulo-zona-sul/_Desde_97\n",
      "Coletando dados de https://imoveis.mercadolivre.com.br/apartamentos/aluguel/sao-paulo/sao-paulo-zona-sul/_Desde_145\n",
      "Coletando dados de https://imoveis.mercadolivre.com.br/apartamentos/aluguel/sao-paulo/sao-paulo-zona-sul/_Desde_193\n",
      "Coletando dados de https://imoveis.mercadolivre.com.br/apartamentos/aluguel/sao-paulo/sao-paulo-zona-sul/_Desde_241\n",
      "Coletando dados de https://imoveis.mercadolivre.com.br/apartamentos/aluguel/sao-paulo/sao-paulo-zona-norte/\n",
      "Coletando dados de https://imoveis.mercadolivre.com.br/apartamentos/aluguel/sao-paulo/sao-paulo-zona-norte/_Desde_49\n",
      "Coletando dados de https://imoveis.mercadolivre.com.br/apartamentos/aluguel/sao-paulo/sao-paulo-zona-norte/_Desde_97\n",
      "Coletando dados de https://imoveis.mercadolivre.com.br/apartamentos/aluguel/sao-paulo/sao-paulo-zona-norte/_Desde_145\n",
      "Coletando dados de https://imoveis.mercadolivre.com.br/apartamentos/aluguel/sao-paulo/sao-paulo-zona-norte/_Desde_193\n",
      "Coletando dados de https://imoveis.mercadolivre.com.br/apartamentos/aluguel/sao-paulo/sao-paulo-zona-norte/_Desde_241\n",
      "Coletando dados de https://imoveis.mercadolivre.com.br/apartamentos/aluguel/sao-paulo/sao-paulo-zona-leste/\n",
      "Coletando dados de https://imoveis.mercadolivre.com.br/apartamentos/aluguel/sao-paulo/sao-paulo-zona-leste/_Desde_49\n",
      "Coletando dados de https://imoveis.mercadolivre.com.br/apartamentos/aluguel/sao-paulo/sao-paulo-zona-leste/_Desde_97\n",
      "Coletando dados de https://imoveis.mercadolivre.com.br/apartamentos/aluguel/sao-paulo/sao-paulo-zona-leste/_Desde_145\n",
      "Coletando dados de https://imoveis.mercadolivre.com.br/apartamentos/aluguel/sao-paulo/sao-paulo-zona-leste/_Desde_193\n",
      "Coletando dados de https://imoveis.mercadolivre.com.br/apartamentos/aluguel/sao-paulo/sao-paulo-zona-leste/_Desde_241\n",
      "Coletando dados de https://imoveis.mercadolivre.com.br/apartamentos/aluguel/sao-paulo/sao-paulo-zona-oeste/\n",
      "Coletando dados de https://imoveis.mercadolivre.com.br/apartamentos/aluguel/sao-paulo/sao-paulo-zona-oeste/_Desde_49\n",
      "Coletando dados de https://imoveis.mercadolivre.com.br/apartamentos/aluguel/sao-paulo/sao-paulo-zona-oeste/_Desde_97\n",
      "Coletando dados de https://imoveis.mercadolivre.com.br/apartamentos/aluguel/sao-paulo/sao-paulo-zona-oeste/_Desde_145\n",
      "Coletando dados de https://imoveis.mercadolivre.com.br/apartamentos/aluguel/sao-paulo/sao-paulo-zona-oeste/_Desde_193\n",
      "Coletando dados de https://imoveis.mercadolivre.com.br/apartamentos/aluguel/sao-paulo/sao-paulo-zona-oeste/_Desde_241\n"
     ]
    }
   ],
   "source": [
    "lista_dfs = []\n",
    "\n",
    "for zona in zonas:\n",
    "  # print('Zona:', zona)\n",
    "  for pagina in paginas:\n",
    "    # print('Pagina:', pagina)\n",
    "    url = f'https://imoveis.mercadolivre.com.br/apartamentos/aluguel/sao-paulo/sao-paulo-zona-{zona}/{pagina}'\n",
    "    print('Coletando dados de', url)\n",
    "    df = coleta_dados(url, zona) # retorna o df \n",
    "    lista_dfs.append(df)\n",
    "    sleep(2)"
   ]
  },
  {
   "cell_type": "code",
   "execution_count": 5,
   "metadata": {
    "ExecuteTime": {
     "end_time": "2021-09-10T02:08:26.455536Z",
     "start_time": "2021-09-10T02:08:26.427543Z"
    }
   },
   "outputs": [],
   "source": [
    "df_ml = pd.concat(lista_dfs, axis=0)"
   ]
  },
  {
   "cell_type": "code",
   "execution_count": 6,
   "metadata": {
    "ExecuteTime": {
     "end_time": "2021-09-10T02:08:26.517538Z",
     "start_time": "2021-09-10T02:08:26.461542Z"
    }
   },
   "outputs": [
    {
     "data": {
      "text/html": [
       "<div>\n",
       "<style scoped>\n",
       "    .dataframe tbody tr th:only-of-type {\n",
       "        vertical-align: middle;\n",
       "    }\n",
       "\n",
       "    .dataframe tbody tr th {\n",
       "        vertical-align: top;\n",
       "    }\n",
       "\n",
       "    .dataframe thead th {\n",
       "        text-align: right;\n",
       "    }\n",
       "</style>\n",
       "<table border=\"1\" class=\"dataframe\">\n",
       "  <thead>\n",
       "    <tr style=\"text-align: right;\">\n",
       "      <th></th>\n",
       "      <th>aluguel</th>\n",
       "      <th>area_quarto</th>\n",
       "      <th>zona</th>\n",
       "    </tr>\n",
       "  </thead>\n",
       "  <tbody>\n",
       "    <tr>\n",
       "      <th>0</th>\n",
       "      <td>21.000</td>\n",
       "      <td>265 m² construídos3 quartos</td>\n",
       "      <td>sul</td>\n",
       "    </tr>\n",
       "    <tr>\n",
       "      <th>1</th>\n",
       "      <td>2.000</td>\n",
       "      <td>45 m² construídos1 quarto</td>\n",
       "      <td>sul</td>\n",
       "    </tr>\n",
       "    <tr>\n",
       "      <th>2</th>\n",
       "      <td>1.499</td>\n",
       "      <td>45 m² construídos1 quarto</td>\n",
       "      <td>sul</td>\n",
       "    </tr>\n",
       "    <tr>\n",
       "      <th>3</th>\n",
       "      <td>4.500</td>\n",
       "      <td>112 m² construídos3 quartos</td>\n",
       "      <td>sul</td>\n",
       "    </tr>\n",
       "    <tr>\n",
       "      <th>4</th>\n",
       "      <td>4.500</td>\n",
       "      <td>125 m² construídos3 quartos</td>\n",
       "      <td>sul</td>\n",
       "    </tr>\n",
       "  </tbody>\n",
       "</table>\n",
       "</div>"
      ],
      "text/plain": [
       "  aluguel                  area_quarto zona\n",
       "0  21.000  265 m² construídos3 quartos  sul\n",
       "1   2.000    45 m² construídos1 quarto  sul\n",
       "2   1.499    45 m² construídos1 quarto  sul\n",
       "3   4.500  112 m² construídos3 quartos  sul\n",
       "4   4.500  125 m² construídos3 quartos  sul"
      ]
     },
     "execution_count": 6,
     "metadata": {},
     "output_type": "execute_result"
    }
   ],
   "source": [
    "df_ml.head()"
   ]
  },
  {
   "cell_type": "code",
   "execution_count": 7,
   "metadata": {
    "ExecuteTime": {
     "end_time": "2021-09-10T02:08:26.549539Z",
     "start_time": "2021-09-10T02:08:26.523547Z"
    }
   },
   "outputs": [
    {
     "data": {
      "text/plain": [
       "(1132, 3)"
      ]
     },
     "execution_count": 7,
     "metadata": {},
     "output_type": "execute_result"
    }
   ],
   "source": [
    "df_ml.shape"
   ]
  },
  {
   "cell_type": "code",
   "execution_count": 8,
   "metadata": {
    "ExecuteTime": {
     "end_time": "2021-09-10T02:08:26.581539Z",
     "start_time": "2021-09-10T02:08:26.556538Z"
    }
   },
   "outputs": [
    {
     "data": {
      "text/plain": [
       "pandas.core.series.Series"
      ]
     },
     "execution_count": 8,
     "metadata": {},
     "output_type": "execute_result"
    }
   ],
   "source": [
    "type(df_ml['aluguel'])"
   ]
  },
  {
   "cell_type": "code",
   "execution_count": 9,
   "metadata": {
    "ExecuteTime": {
     "end_time": "2021-09-10T02:08:26.597541Z",
     "start_time": "2021-09-10T02:08:26.585545Z"
    }
   },
   "outputs": [
    {
     "data": {
      "text/plain": [
       "numpy.ndarray"
      ]
     },
     "execution_count": 9,
     "metadata": {},
     "output_type": "execute_result"
    }
   ],
   "source": [
    "type(df_ml['aluguel'].values)"
   ]
  },
  {
   "cell_type": "code",
   "execution_count": 10,
   "metadata": {
    "ExecuteTime": {
     "end_time": "2021-09-10T02:08:26.613540Z",
     "start_time": "2021-09-10T02:08:26.601544Z"
    }
   },
   "outputs": [
    {
     "data": {
      "text/plain": [
       "str"
      ]
     },
     "execution_count": 10,
     "metadata": {},
     "output_type": "execute_result"
    }
   ],
   "source": [
    "type(df_ml['aluguel'].values[0])"
   ]
  },
  {
   "cell_type": "code",
   "execution_count": 15,
   "metadata": {
    "ExecuteTime": {
     "end_time": "2021-09-10T02:09:58.392121Z",
     "start_time": "2021-09-10T02:09:58.378100Z"
    }
   },
   "outputs": [],
   "source": [
    "df_ml.to_csv('../coleta_de_dados/dados_mercado_livre.csv', index=False)"
   ]
  },
  {
   "cell_type": "code",
   "execution_count": 16,
   "metadata": {
    "ExecuteTime": {
     "end_time": "2021-09-10T02:10:02.537930Z",
     "start_time": "2021-09-10T02:10:02.494904Z"
    }
   },
   "outputs": [
    {
     "data": {
      "text/html": [
       "<div>\n",
       "<style scoped>\n",
       "    .dataframe tbody tr th:only-of-type {\n",
       "        vertical-align: middle;\n",
       "    }\n",
       "\n",
       "    .dataframe tbody tr th {\n",
       "        vertical-align: top;\n",
       "    }\n",
       "\n",
       "    .dataframe thead th {\n",
       "        text-align: right;\n",
       "    }\n",
       "</style>\n",
       "<table border=\"1\" class=\"dataframe\">\n",
       "  <thead>\n",
       "    <tr style=\"text-align: right;\">\n",
       "      <th></th>\n",
       "      <th>aluguel</th>\n",
       "      <th>area_quarto</th>\n",
       "      <th>zona</th>\n",
       "    </tr>\n",
       "  </thead>\n",
       "  <tbody>\n",
       "    <tr>\n",
       "      <th>0</th>\n",
       "      <td>21000</td>\n",
       "      <td>265 m² construídos3 quartos</td>\n",
       "      <td>sul</td>\n",
       "    </tr>\n",
       "    <tr>\n",
       "      <th>1</th>\n",
       "      <td>2000</td>\n",
       "      <td>45 m² construídos1 quarto</td>\n",
       "      <td>sul</td>\n",
       "    </tr>\n",
       "    <tr>\n",
       "      <th>2</th>\n",
       "      <td>1499</td>\n",
       "      <td>45 m² construídos1 quarto</td>\n",
       "      <td>sul</td>\n",
       "    </tr>\n",
       "    <tr>\n",
       "      <th>3</th>\n",
       "      <td>4500</td>\n",
       "      <td>112 m² construídos3 quartos</td>\n",
       "      <td>sul</td>\n",
       "    </tr>\n",
       "    <tr>\n",
       "      <th>4</th>\n",
       "      <td>4500</td>\n",
       "      <td>125 m² construídos3 quartos</td>\n",
       "      <td>sul</td>\n",
       "    </tr>\n",
       "    <tr>\n",
       "      <th>...</th>\n",
       "      <td>...</td>\n",
       "      <td>...</td>\n",
       "      <td>...</td>\n",
       "    </tr>\n",
       "    <tr>\n",
       "      <th>1127</th>\n",
       "      <td>1500</td>\n",
       "      <td>40 m² construídos1 quarto</td>\n",
       "      <td>oeste</td>\n",
       "    </tr>\n",
       "    <tr>\n",
       "      <th>1128</th>\n",
       "      <td>9300</td>\n",
       "      <td>186 m² construídos3 quartos</td>\n",
       "      <td>oeste</td>\n",
       "    </tr>\n",
       "    <tr>\n",
       "      <th>1129</th>\n",
       "      <td>2000</td>\n",
       "      <td>70 m² construídos2 quartos</td>\n",
       "      <td>oeste</td>\n",
       "    </tr>\n",
       "    <tr>\n",
       "      <th>1130</th>\n",
       "      <td>1600</td>\n",
       "      <td>50 m² construídos2 quartos</td>\n",
       "      <td>oeste</td>\n",
       "    </tr>\n",
       "    <tr>\n",
       "      <th>1131</th>\n",
       "      <td>1400</td>\n",
       "      <td>50 m² construídos1 quarto</td>\n",
       "      <td>oeste</td>\n",
       "    </tr>\n",
       "  </tbody>\n",
       "</table>\n",
       "<p>1132 rows × 3 columns</p>\n",
       "</div>"
      ],
      "text/plain": [
       "      aluguel                  area_quarto   zona\n",
       "0       21000  265 m² construídos3 quartos    sul\n",
       "1        2000    45 m² construídos1 quarto    sul\n",
       "2        1499    45 m² construídos1 quarto    sul\n",
       "3        4500  112 m² construídos3 quartos    sul\n",
       "4        4500  125 m² construídos3 quartos    sul\n",
       "...       ...                          ...    ...\n",
       "1127     1500    40 m² construídos1 quarto  oeste\n",
       "1128     9300  186 m² construídos3 quartos  oeste\n",
       "1129     2000   70 m² construídos2 quartos  oeste\n",
       "1130     1600   50 m² construídos2 quartos  oeste\n",
       "1131     1400    50 m² construídos1 quarto  oeste\n",
       "\n",
       "[1132 rows x 3 columns]"
      ]
     },
     "execution_count": 16,
     "metadata": {},
     "output_type": "execute_result"
    }
   ],
   "source": [
    "pd.read_csv('dados_mercado_livre.csv', thousands='.')"
   ]
  },
  {
   "cell_type": "markdown",
   "metadata": {},
   "source": [
    "# Manipulaçao de dados"
   ]
  },
  {
   "cell_type": "code",
   "execution_count": 1,
   "metadata": {
    "ExecuteTime": {
     "end_time": "2021-09-10T02:13:31.537440Z",
     "start_time": "2021-09-10T02:13:30.969244Z"
    }
   },
   "outputs": [],
   "source": [
    "import pandas as pd\n",
    "import numpy as np"
   ]
  },
  {
   "cell_type": "code",
   "execution_count": 2,
   "metadata": {
    "ExecuteTime": {
     "end_time": "2021-09-10T02:13:49.009998Z",
     "start_time": "2021-09-10T02:13:48.983999Z"
    }
   },
   "outputs": [],
   "source": [
    "url = '../coleta_de_dados/dados_mercado_livre.csv'\n",
    "df_ml = pd.read_csv(url, thousands='.')"
   ]
  },
  {
   "cell_type": "code",
   "execution_count": 3,
   "metadata": {
    "ExecuteTime": {
     "end_time": "2021-09-10T02:14:15.823716Z",
     "start_time": "2021-09-10T02:14:15.787719Z"
    }
   },
   "outputs": [
    {
     "data": {
      "text/html": [
       "<div>\n",
       "<style scoped>\n",
       "    .dataframe tbody tr th:only-of-type {\n",
       "        vertical-align: middle;\n",
       "    }\n",
       "\n",
       "    .dataframe tbody tr th {\n",
       "        vertical-align: top;\n",
       "    }\n",
       "\n",
       "    .dataframe thead th {\n",
       "        text-align: right;\n",
       "    }\n",
       "</style>\n",
       "<table border=\"1\" class=\"dataframe\">\n",
       "  <thead>\n",
       "    <tr style=\"text-align: right;\">\n",
       "      <th></th>\n",
       "      <th>aluguel</th>\n",
       "      <th>area_quarto</th>\n",
       "      <th>zona</th>\n",
       "    </tr>\n",
       "  </thead>\n",
       "  <tbody>\n",
       "    <tr>\n",
       "      <th>0</th>\n",
       "      <td>21000</td>\n",
       "      <td>265 m² construídos3 quartos</td>\n",
       "      <td>sul</td>\n",
       "    </tr>\n",
       "    <tr>\n",
       "      <th>1</th>\n",
       "      <td>2000</td>\n",
       "      <td>45 m² construídos1 quarto</td>\n",
       "      <td>sul</td>\n",
       "    </tr>\n",
       "    <tr>\n",
       "      <th>2</th>\n",
       "      <td>1499</td>\n",
       "      <td>45 m² construídos1 quarto</td>\n",
       "      <td>sul</td>\n",
       "    </tr>\n",
       "    <tr>\n",
       "      <th>3</th>\n",
       "      <td>4500</td>\n",
       "      <td>112 m² construídos3 quartos</td>\n",
       "      <td>sul</td>\n",
       "    </tr>\n",
       "    <tr>\n",
       "      <th>4</th>\n",
       "      <td>4500</td>\n",
       "      <td>125 m² construídos3 quartos</td>\n",
       "      <td>sul</td>\n",
       "    </tr>\n",
       "  </tbody>\n",
       "</table>\n",
       "</div>"
      ],
      "text/plain": [
       "   aluguel                  area_quarto zona\n",
       "0    21000  265 m² construídos3 quartos  sul\n",
       "1     2000    45 m² construídos1 quarto  sul\n",
       "2     1499    45 m² construídos1 quarto  sul\n",
       "3     4500  112 m² construídos3 quartos  sul\n",
       "4     4500  125 m² construídos3 quartos  sul"
      ]
     },
     "execution_count": 3,
     "metadata": {},
     "output_type": "execute_result"
    }
   ],
   "source": [
    "df_ml.head()"
   ]
  },
  {
   "cell_type": "code",
   "execution_count": 4,
   "metadata": {
    "ExecuteTime": {
     "end_time": "2021-09-10T02:14:22.881094Z",
     "start_time": "2021-09-10T02:14:22.846094Z"
    }
   },
   "outputs": [
    {
     "name": "stdout",
     "output_type": "stream",
     "text": [
      "<class 'pandas.core.frame.DataFrame'>\n",
      "RangeIndex: 1132 entries, 0 to 1131\n",
      "Data columns (total 3 columns):\n",
      " #   Column       Non-Null Count  Dtype \n",
      "---  ------       --------------  ----- \n",
      " 0   aluguel      1132 non-null   int64 \n",
      " 1   area_quarto  1132 non-null   object\n",
      " 2   zona         1132 non-null   object\n",
      "dtypes: int64(1), object(2)\n",
      "memory usage: 26.7+ KB\n"
     ]
    }
   ],
   "source": [
    "df_ml.info()"
   ]
  },
  {
   "cell_type": "code",
   "execution_count": 5,
   "metadata": {
    "ExecuteTime": {
     "end_time": "2021-09-10T02:14:36.167919Z",
     "start_time": "2021-09-10T02:14:36.114921Z"
    }
   },
   "outputs": [
    {
     "data": {
      "text/html": [
       "<div>\n",
       "<style scoped>\n",
       "    .dataframe tbody tr th:only-of-type {\n",
       "        vertical-align: middle;\n",
       "    }\n",
       "\n",
       "    .dataframe tbody tr th {\n",
       "        vertical-align: top;\n",
       "    }\n",
       "\n",
       "    .dataframe thead th {\n",
       "        text-align: right;\n",
       "    }\n",
       "</style>\n",
       "<table border=\"1\" class=\"dataframe\">\n",
       "  <thead>\n",
       "    <tr style=\"text-align: right;\">\n",
       "      <th></th>\n",
       "      <th>count</th>\n",
       "      <th>mean</th>\n",
       "      <th>std</th>\n",
       "      <th>min</th>\n",
       "      <th>25%</th>\n",
       "      <th>50%</th>\n",
       "      <th>75%</th>\n",
       "      <th>max</th>\n",
       "    </tr>\n",
       "  </thead>\n",
       "  <tbody>\n",
       "    <tr>\n",
       "      <th>aluguel</th>\n",
       "      <td>1132.0</td>\n",
       "      <td>2530.519435</td>\n",
       "      <td>5557.360467</td>\n",
       "      <td>500.0</td>\n",
       "      <td>1359.75</td>\n",
       "      <td>1900.0</td>\n",
       "      <td>2800.0</td>\n",
       "      <td>179999.0</td>\n",
       "    </tr>\n",
       "  </tbody>\n",
       "</table>\n",
       "</div>"
      ],
      "text/plain": [
       "          count         mean          std    min      25%     50%     75%  \\\n",
       "aluguel  1132.0  2530.519435  5557.360467  500.0  1359.75  1900.0  2800.0   \n",
       "\n",
       "              max  \n",
       "aluguel  179999.0  "
      ]
     },
     "execution_count": 5,
     "metadata": {},
     "output_type": "execute_result"
    }
   ],
   "source": [
    "df_ml.describe().T"
   ]
  },
  {
   "cell_type": "code",
   "execution_count": 6,
   "metadata": {
    "ExecuteTime": {
     "end_time": "2021-09-10T02:14:43.511780Z",
     "start_time": "2021-09-10T02:14:43.500779Z"
    }
   },
   "outputs": [
    {
     "data": {
      "text/plain": [
       "aluguel        0\n",
       "area_quarto    0\n",
       "zona           0\n",
       "dtype: int64"
      ]
     },
     "execution_count": 6,
     "metadata": {},
     "output_type": "execute_result"
    }
   ],
   "source": [
    "df_ml.isna().sum()"
   ]
  },
  {
   "cell_type": "code",
   "execution_count": 7,
   "metadata": {
    "ExecuteTime": {
     "end_time": "2021-09-10T02:14:49.868612Z",
     "start_time": "2021-09-10T02:14:49.853599Z"
    }
   },
   "outputs": [
    {
     "data": {
      "text/plain": [
       "aluguel        0\n",
       "area_quarto    0\n",
       "zona           0\n",
       "dtype: int64"
      ]
     },
     "execution_count": 7,
     "metadata": {},
     "output_type": "execute_result"
    }
   ],
   "source": [
    "df_ml.isnull().sum()"
   ]
  },
  {
   "cell_type": "code",
   "execution_count": 8,
   "metadata": {
    "ExecuteTime": {
     "end_time": "2021-09-10T02:14:56.497897Z",
     "start_time": "2021-09-10T02:14:56.487927Z"
    }
   },
   "outputs": [],
   "source": [
    "df_ml['aluguel'] = df_ml['aluguel'].astype(float)"
   ]
  },
  {
   "cell_type": "code",
   "execution_count": 9,
   "metadata": {
    "ExecuteTime": {
     "end_time": "2021-09-10T02:15:03.546453Z",
     "start_time": "2021-09-10T02:15:03.528455Z"
    }
   },
   "outputs": [
    {
     "name": "stdout",
     "output_type": "stream",
     "text": [
      "<class 'pandas.core.frame.DataFrame'>\n",
      "RangeIndex: 1132 entries, 0 to 1131\n",
      "Data columns (total 3 columns):\n",
      " #   Column       Non-Null Count  Dtype  \n",
      "---  ------       --------------  -----  \n",
      " 0   aluguel      1132 non-null   float64\n",
      " 1   area_quarto  1132 non-null   object \n",
      " 2   zona         1132 non-null   object \n",
      "dtypes: float64(1), object(2)\n",
      "memory usage: 26.7+ KB\n"
     ]
    }
   ],
   "source": [
    "df_ml.info()"
   ]
  },
  {
   "cell_type": "code",
   "execution_count": 10,
   "metadata": {
    "ExecuteTime": {
     "end_time": "2021-09-10T02:15:14.217772Z",
     "start_time": "2021-09-10T02:15:14.198761Z"
    }
   },
   "outputs": [],
   "source": [
    "linha0 = df_ml['area_quarto'][0]"
   ]
  },
  {
   "cell_type": "code",
   "execution_count": 11,
   "metadata": {
    "ExecuteTime": {
     "end_time": "2021-09-10T02:15:19.974606Z",
     "start_time": "2021-09-10T02:15:19.952612Z"
    }
   },
   "outputs": [
    {
     "data": {
      "text/plain": [
       "'265'"
      ]
     },
     "execution_count": 11,
     "metadata": {},
     "output_type": "execute_result"
    }
   ],
   "source": [
    "linha0.split(sep=' m²')[0]"
   ]
  },
  {
   "cell_type": "code",
   "execution_count": 12,
   "metadata": {
    "ExecuteTime": {
     "end_time": "2021-09-10T02:15:28.596386Z",
     "start_time": "2021-09-10T02:15:28.584378Z"
    }
   },
   "outputs": [],
   "source": [
    "linha_inventada = ' 2 quartos'"
   ]
  },
  {
   "cell_type": "code",
   "execution_count": 13,
   "metadata": {
    "ExecuteTime": {
     "end_time": "2021-09-10T02:15:38.887621Z",
     "start_time": "2021-09-10T02:15:38.867618Z"
    }
   },
   "outputs": [
    {
     "name": "stdout",
     "output_type": "stream",
     "text": [
      "265\n"
     ]
    }
   ],
   "source": [
    "if 'm²' in linha0:\n",
    "  print(linha0.split(sep=' m²')[0])\n",
    "else:\n",
    "  print(np.nan)"
   ]
  },
  {
   "cell_type": "code",
   "execution_count": 14,
   "metadata": {
    "ExecuteTime": {
     "end_time": "2021-09-10T02:15:47.531577Z",
     "start_time": "2021-09-10T02:15:47.523579Z"
    }
   },
   "outputs": [
    {
     "name": "stdout",
     "output_type": "stream",
     "text": [
      "nan\n"
     ]
    }
   ],
   "source": [
    "if 'm²' in linha_inventada:\n",
    "  print(linha_inventada.split(sep=' m²')[0])\n",
    "else:\n",
    "  print(np.nan)"
   ]
  },
  {
   "cell_type": "code",
   "execution_count": 15,
   "metadata": {
    "ExecuteTime": {
     "end_time": "2021-09-10T02:15:58.670083Z",
     "start_time": "2021-09-10T02:15:58.653090Z"
    }
   },
   "outputs": [],
   "source": [
    "def extrair_area(entrada):\n",
    "  if 'm²' in entrada:\n",
    "    area = entrada.split(sep=' m²')[0]\n",
    "  else:\n",
    "    area = np.nan\n",
    "  return area"
   ]
  },
  {
   "cell_type": "code",
   "execution_count": 16,
   "metadata": {
    "ExecuteTime": {
     "end_time": "2021-09-10T02:16:04.653604Z",
     "start_time": "2021-09-10T02:16:04.634581Z"
    }
   },
   "outputs": [],
   "source": [
    "df_ml['area'] = df_ml['area_quarto'].apply(extrair_area).astype(float)"
   ]
  },
  {
   "cell_type": "code",
   "execution_count": 17,
   "metadata": {
    "ExecuteTime": {
     "end_time": "2021-09-10T02:16:10.476651Z",
     "start_time": "2021-09-10T02:16:10.449622Z"
    }
   },
   "outputs": [
    {
     "name": "stdout",
     "output_type": "stream",
     "text": [
      "<class 'pandas.core.frame.DataFrame'>\n",
      "RangeIndex: 1132 entries, 0 to 1131\n",
      "Data columns (total 4 columns):\n",
      " #   Column       Non-Null Count  Dtype  \n",
      "---  ------       --------------  -----  \n",
      " 0   aluguel      1132 non-null   float64\n",
      " 1   area_quarto  1132 non-null   object \n",
      " 2   zona         1132 non-null   object \n",
      " 3   area         1132 non-null   float64\n",
      "dtypes: float64(2), object(2)\n",
      "memory usage: 35.5+ KB\n"
     ]
    }
   ],
   "source": [
    "df_ml.info()"
   ]
  },
  {
   "cell_type": "code",
   "execution_count": 18,
   "metadata": {
    "ExecuteTime": {
     "end_time": "2021-09-10T02:16:17.250742Z",
     "start_time": "2021-09-10T02:16:17.242739Z"
    }
   },
   "outputs": [
    {
     "data": {
      "text/plain": [
       "'265 m² construídos3 quartos'"
      ]
     },
     "execution_count": 18,
     "metadata": {},
     "output_type": "execute_result"
    }
   ],
   "source": [
    "linha0"
   ]
  },
  {
   "cell_type": "code",
   "execution_count": 19,
   "metadata": {
    "ExecuteTime": {
     "end_time": "2021-09-10T02:16:24.347724Z",
     "start_time": "2021-09-10T02:16:24.342722Z"
    }
   },
   "outputs": [],
   "source": [
    "padrao = '(\\d+)' # é uma expressão regular, um padrão - regex"
   ]
  },
  {
   "cell_type": "code",
   "execution_count": 20,
   "metadata": {
    "ExecuteTime": {
     "end_time": "2021-09-10T02:16:31.658162Z",
     "start_time": "2021-09-10T02:16:31.646173Z"
    }
   },
   "outputs": [],
   "source": [
    "import re"
   ]
  },
  {
   "cell_type": "code",
   "execution_count": 21,
   "metadata": {
    "ExecuteTime": {
     "end_time": "2021-09-10T02:16:36.850354Z",
     "start_time": "2021-09-10T02:16:36.841362Z"
    }
   },
   "outputs": [
    {
     "data": {
      "text/plain": [
       "'3'"
      ]
     },
     "execution_count": 21,
     "metadata": {},
     "output_type": "execute_result"
    }
   ],
   "source": [
    "re.findall(padrao, linha0)[1]"
   ]
  },
  {
   "cell_type": "code",
   "execution_count": 22,
   "metadata": {
    "ExecuteTime": {
     "end_time": "2021-09-10T02:16:43.881356Z",
     "start_time": "2021-09-10T02:16:43.861333Z"
    }
   },
   "outputs": [],
   "source": [
    "def extrair_quarto(entrada):\n",
    "  padrao = '(\\d+)' \n",
    "\n",
    "  if 'quarto' in entrada:\n",
    "    quarto = re.findall(padrao, entrada)[1]\n",
    "  else:\n",
    "    quarto = np.nan\n",
    "  return quarto"
   ]
  },
  {
   "cell_type": "code",
   "execution_count": 23,
   "metadata": {
    "ExecuteTime": {
     "end_time": "2021-09-10T02:16:50.076268Z",
     "start_time": "2021-09-10T02:16:50.051264Z"
    }
   },
   "outputs": [],
   "source": [
    "df_ml['quarto'] = df_ml['area_quarto'].apply(extrair_quarto).astype(float)"
   ]
  },
  {
   "cell_type": "code",
   "execution_count": 24,
   "metadata": {
    "ExecuteTime": {
     "end_time": "2021-09-10T02:16:55.206572Z",
     "start_time": "2021-09-10T02:16:55.189573Z"
    }
   },
   "outputs": [
    {
     "name": "stdout",
     "output_type": "stream",
     "text": [
      "<class 'pandas.core.frame.DataFrame'>\n",
      "RangeIndex: 1132 entries, 0 to 1131\n",
      "Data columns (total 5 columns):\n",
      " #   Column       Non-Null Count  Dtype  \n",
      "---  ------       --------------  -----  \n",
      " 0   aluguel      1132 non-null   float64\n",
      " 1   area_quarto  1132 non-null   object \n",
      " 2   zona         1132 non-null   object \n",
      " 3   area         1132 non-null   float64\n",
      " 4   quarto       1132 non-null   float64\n",
      "dtypes: float64(3), object(2)\n",
      "memory usage: 44.3+ KB\n"
     ]
    }
   ],
   "source": [
    "df_ml.info()"
   ]
  },
  {
   "cell_type": "code",
   "execution_count": 25,
   "metadata": {
    "ExecuteTime": {
     "end_time": "2021-09-10T02:17:01.436037Z",
     "start_time": "2021-09-10T02:17:01.426010Z"
    }
   },
   "outputs": [],
   "source": [
    "df_ml = df_ml.drop('area_quarto', axis=1)"
   ]
  },
  {
   "cell_type": "code",
   "execution_count": 26,
   "metadata": {
    "ExecuteTime": {
     "end_time": "2021-09-10T02:17:07.239901Z",
     "start_time": "2021-09-10T02:17:07.209911Z"
    }
   },
   "outputs": [
    {
     "data": {
      "text/html": [
       "<div>\n",
       "<style scoped>\n",
       "    .dataframe tbody tr th:only-of-type {\n",
       "        vertical-align: middle;\n",
       "    }\n",
       "\n",
       "    .dataframe tbody tr th {\n",
       "        vertical-align: top;\n",
       "    }\n",
       "\n",
       "    .dataframe thead th {\n",
       "        text-align: right;\n",
       "    }\n",
       "</style>\n",
       "<table border=\"1\" class=\"dataframe\">\n",
       "  <thead>\n",
       "    <tr style=\"text-align: right;\">\n",
       "      <th></th>\n",
       "      <th>aluguel</th>\n",
       "      <th>zona</th>\n",
       "      <th>area</th>\n",
       "      <th>quarto</th>\n",
       "    </tr>\n",
       "  </thead>\n",
       "  <tbody>\n",
       "    <tr>\n",
       "      <th>0</th>\n",
       "      <td>21000.0</td>\n",
       "      <td>sul</td>\n",
       "      <td>265.0</td>\n",
       "      <td>3.0</td>\n",
       "    </tr>\n",
       "    <tr>\n",
       "      <th>1</th>\n",
       "      <td>2000.0</td>\n",
       "      <td>sul</td>\n",
       "      <td>45.0</td>\n",
       "      <td>1.0</td>\n",
       "    </tr>\n",
       "    <tr>\n",
       "      <th>2</th>\n",
       "      <td>1499.0</td>\n",
       "      <td>sul</td>\n",
       "      <td>45.0</td>\n",
       "      <td>1.0</td>\n",
       "    </tr>\n",
       "    <tr>\n",
       "      <th>3</th>\n",
       "      <td>4500.0</td>\n",
       "      <td>sul</td>\n",
       "      <td>112.0</td>\n",
       "      <td>3.0</td>\n",
       "    </tr>\n",
       "    <tr>\n",
       "      <th>4</th>\n",
       "      <td>4500.0</td>\n",
       "      <td>sul</td>\n",
       "      <td>125.0</td>\n",
       "      <td>3.0</td>\n",
       "    </tr>\n",
       "  </tbody>\n",
       "</table>\n",
       "</div>"
      ],
      "text/plain": [
       "   aluguel zona   area  quarto\n",
       "0  21000.0  sul  265.0     3.0\n",
       "1   2000.0  sul   45.0     1.0\n",
       "2   1499.0  sul   45.0     1.0\n",
       "3   4500.0  sul  112.0     3.0\n",
       "4   4500.0  sul  125.0     3.0"
      ]
     },
     "execution_count": 26,
     "metadata": {},
     "output_type": "execute_result"
    }
   ],
   "source": [
    "df_ml.head()"
   ]
  },
  {
   "cell_type": "code",
   "execution_count": 27,
   "metadata": {
    "ExecuteTime": {
     "end_time": "2021-09-10T02:18:33.412029Z",
     "start_time": "2021-09-10T02:18:33.386031Z"
    }
   },
   "outputs": [],
   "source": [
    "df_ml.to_csv('../manipulacao-de-dados/dados_tratados_ml.csv', index=False)"
   ]
  },
  {
   "cell_type": "code",
   "execution_count": 28,
   "metadata": {
    "ExecuteTime": {
     "end_time": "2021-09-10T02:18:34.143862Z",
     "start_time": "2021-09-10T02:18:34.108842Z"
    }
   },
   "outputs": [
    {
     "data": {
      "text/html": [
       "<div>\n",
       "<style scoped>\n",
       "    .dataframe tbody tr th:only-of-type {\n",
       "        vertical-align: middle;\n",
       "    }\n",
       "\n",
       "    .dataframe tbody tr th {\n",
       "        vertical-align: top;\n",
       "    }\n",
       "\n",
       "    .dataframe thead th {\n",
       "        text-align: right;\n",
       "    }\n",
       "</style>\n",
       "<table border=\"1\" class=\"dataframe\">\n",
       "  <thead>\n",
       "    <tr style=\"text-align: right;\">\n",
       "      <th></th>\n",
       "      <th>aluguel</th>\n",
       "      <th>zona</th>\n",
       "      <th>area</th>\n",
       "      <th>quarto</th>\n",
       "    </tr>\n",
       "  </thead>\n",
       "  <tbody>\n",
       "    <tr>\n",
       "      <th>0</th>\n",
       "      <td>21000.0</td>\n",
       "      <td>sul</td>\n",
       "      <td>265.0</td>\n",
       "      <td>3.0</td>\n",
       "    </tr>\n",
       "    <tr>\n",
       "      <th>1</th>\n",
       "      <td>2000.0</td>\n",
       "      <td>sul</td>\n",
       "      <td>45.0</td>\n",
       "      <td>1.0</td>\n",
       "    </tr>\n",
       "    <tr>\n",
       "      <th>2</th>\n",
       "      <td>1499.0</td>\n",
       "      <td>sul</td>\n",
       "      <td>45.0</td>\n",
       "      <td>1.0</td>\n",
       "    </tr>\n",
       "    <tr>\n",
       "      <th>3</th>\n",
       "      <td>4500.0</td>\n",
       "      <td>sul</td>\n",
       "      <td>112.0</td>\n",
       "      <td>3.0</td>\n",
       "    </tr>\n",
       "    <tr>\n",
       "      <th>4</th>\n",
       "      <td>4500.0</td>\n",
       "      <td>sul</td>\n",
       "      <td>125.0</td>\n",
       "      <td>3.0</td>\n",
       "    </tr>\n",
       "    <tr>\n",
       "      <th>...</th>\n",
       "      <td>...</td>\n",
       "      <td>...</td>\n",
       "      <td>...</td>\n",
       "      <td>...</td>\n",
       "    </tr>\n",
       "    <tr>\n",
       "      <th>1127</th>\n",
       "      <td>1500.0</td>\n",
       "      <td>oeste</td>\n",
       "      <td>40.0</td>\n",
       "      <td>1.0</td>\n",
       "    </tr>\n",
       "    <tr>\n",
       "      <th>1128</th>\n",
       "      <td>9300.0</td>\n",
       "      <td>oeste</td>\n",
       "      <td>186.0</td>\n",
       "      <td>3.0</td>\n",
       "    </tr>\n",
       "    <tr>\n",
       "      <th>1129</th>\n",
       "      <td>2000.0</td>\n",
       "      <td>oeste</td>\n",
       "      <td>70.0</td>\n",
       "      <td>2.0</td>\n",
       "    </tr>\n",
       "    <tr>\n",
       "      <th>1130</th>\n",
       "      <td>1600.0</td>\n",
       "      <td>oeste</td>\n",
       "      <td>50.0</td>\n",
       "      <td>2.0</td>\n",
       "    </tr>\n",
       "    <tr>\n",
       "      <th>1131</th>\n",
       "      <td>1400.0</td>\n",
       "      <td>oeste</td>\n",
       "      <td>50.0</td>\n",
       "      <td>1.0</td>\n",
       "    </tr>\n",
       "  </tbody>\n",
       "</table>\n",
       "<p>1132 rows × 4 columns</p>\n",
       "</div>"
      ],
      "text/plain": [
       "      aluguel   zona   area  quarto\n",
       "0     21000.0    sul  265.0     3.0\n",
       "1      2000.0    sul   45.0     1.0\n",
       "2      1499.0    sul   45.0     1.0\n",
       "3      4500.0    sul  112.0     3.0\n",
       "4      4500.0    sul  125.0     3.0\n",
       "...       ...    ...    ...     ...\n",
       "1127   1500.0  oeste   40.0     1.0\n",
       "1128   9300.0  oeste  186.0     3.0\n",
       "1129   2000.0  oeste   70.0     2.0\n",
       "1130   1600.0  oeste   50.0     2.0\n",
       "1131   1400.0  oeste   50.0     1.0\n",
       "\n",
       "[1132 rows x 4 columns]"
      ]
     },
     "execution_count": 28,
     "metadata": {},
     "output_type": "execute_result"
    }
   ],
   "source": [
    "pd.read_csv('../manipulacao-de-dados/dados_tratados_ml.csv')"
   ]
  },
  {
   "cell_type": "code",
   "execution_count": null,
   "metadata": {},
   "outputs": [],
   "source": []
  }
 ],
 "metadata": {
  "hide_input": false,
  "kernelspec": {
   "display_name": "Python 3",
   "language": "python",
   "name": "python3"
  },
  "language_info": {
   "codemirror_mode": {
    "name": "ipython",
    "version": 3
   },
   "file_extension": ".py",
   "mimetype": "text/x-python",
   "name": "python",
   "nbconvert_exporter": "python",
   "pygments_lexer": "ipython3",
   "version": "3.8.5"
  }
 },
 "nbformat": 4,
 "nbformat_minor": 4
}
