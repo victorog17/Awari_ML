{
 "cells": [
  {
   "cell_type": "code",
   "execution_count": 1,
   "metadata": {
    "ExecuteTime": {
     "end_time": "2021-09-10T02:28:45.753447Z",
     "start_time": "2021-09-10T02:28:45.136458Z"
    }
   },
   "outputs": [],
   "source": [
    "import pandas as pd\n",
    "dados = pd.read_csv('../manipulacao-de-dados/dados_tratados_ml.csv')"
   ]
  },
  {
   "cell_type": "code",
   "execution_count": 2,
   "metadata": {
    "ExecuteTime": {
     "end_time": "2021-09-10T02:28:56.131758Z",
     "start_time": "2021-09-10T02:28:56.086758Z"
    }
   },
   "outputs": [
    {
     "data": {
      "text/html": [
       "<div>\n",
       "<style scoped>\n",
       "    .dataframe tbody tr th:only-of-type {\n",
       "        vertical-align: middle;\n",
       "    }\n",
       "\n",
       "    .dataframe tbody tr th {\n",
       "        vertical-align: top;\n",
       "    }\n",
       "\n",
       "    .dataframe thead th {\n",
       "        text-align: right;\n",
       "    }\n",
       "</style>\n",
       "<table border=\"1\" class=\"dataframe\">\n",
       "  <thead>\n",
       "    <tr style=\"text-align: right;\">\n",
       "      <th></th>\n",
       "      <th>aluguel</th>\n",
       "      <th>zona</th>\n",
       "      <th>area</th>\n",
       "      <th>quarto</th>\n",
       "    </tr>\n",
       "  </thead>\n",
       "  <tbody>\n",
       "    <tr>\n",
       "      <th>0</th>\n",
       "      <td>21000.0</td>\n",
       "      <td>sul</td>\n",
       "      <td>265.0</td>\n",
       "      <td>3.0</td>\n",
       "    </tr>\n",
       "    <tr>\n",
       "      <th>1</th>\n",
       "      <td>2000.0</td>\n",
       "      <td>sul</td>\n",
       "      <td>45.0</td>\n",
       "      <td>1.0</td>\n",
       "    </tr>\n",
       "    <tr>\n",
       "      <th>2</th>\n",
       "      <td>1499.0</td>\n",
       "      <td>sul</td>\n",
       "      <td>45.0</td>\n",
       "      <td>1.0</td>\n",
       "    </tr>\n",
       "    <tr>\n",
       "      <th>3</th>\n",
       "      <td>4500.0</td>\n",
       "      <td>sul</td>\n",
       "      <td>112.0</td>\n",
       "      <td>3.0</td>\n",
       "    </tr>\n",
       "    <tr>\n",
       "      <th>4</th>\n",
       "      <td>4500.0</td>\n",
       "      <td>sul</td>\n",
       "      <td>125.0</td>\n",
       "      <td>3.0</td>\n",
       "    </tr>\n",
       "  </tbody>\n",
       "</table>\n",
       "</div>"
      ],
      "text/plain": [
       "   aluguel zona   area  quarto\n",
       "0  21000.0  sul  265.0     3.0\n",
       "1   2000.0  sul   45.0     1.0\n",
       "2   1499.0  sul   45.0     1.0\n",
       "3   4500.0  sul  112.0     3.0\n",
       "4   4500.0  sul  125.0     3.0"
      ]
     },
     "execution_count": 2,
     "metadata": {},
     "output_type": "execute_result"
    }
   ],
   "source": [
    "dados.head()"
   ]
  },
  {
   "cell_type": "code",
   "execution_count": 3,
   "metadata": {
    "ExecuteTime": {
     "end_time": "2021-09-10T02:29:05.506397Z",
     "start_time": "2021-09-10T02:29:05.472388Z"
    }
   },
   "outputs": [
    {
     "name": "stdout",
     "output_type": "stream",
     "text": [
      "<class 'pandas.core.frame.DataFrame'>\n",
      "RangeIndex: 1132 entries, 0 to 1131\n",
      "Data columns (total 4 columns):\n",
      " #   Column   Non-Null Count  Dtype  \n",
      "---  ------   --------------  -----  \n",
      " 0   aluguel  1132 non-null   float64\n",
      " 1   zona     1132 non-null   object \n",
      " 2   area     1132 non-null   float64\n",
      " 3   quarto   1132 non-null   float64\n",
      "dtypes: float64(3), object(1)\n",
      "memory usage: 35.5+ KB\n"
     ]
    }
   ],
   "source": [
    "dados.info()"
   ]
  },
  {
   "cell_type": "code",
   "execution_count": 4,
   "metadata": {
    "ExecuteTime": {
     "end_time": "2021-09-10T02:29:21.102755Z",
     "start_time": "2021-09-10T02:29:21.089731Z"
    }
   },
   "outputs": [],
   "source": [
    "X = dados.drop(columns=['aluguel'])"
   ]
  },
  {
   "cell_type": "code",
   "execution_count": 5,
   "metadata": {
    "ExecuteTime": {
     "end_time": "2021-09-10T02:29:27.296718Z",
     "start_time": "2021-09-10T02:29:27.276717Z"
    }
   },
   "outputs": [
    {
     "data": {
      "text/plain": [
       "zona      0\n",
       "area      0\n",
       "quarto    0\n",
       "dtype: int64"
      ]
     },
     "execution_count": 5,
     "metadata": {},
     "output_type": "execute_result"
    }
   ],
   "source": [
    "X.isna().sum()"
   ]
  },
  {
   "cell_type": "code",
   "execution_count": 6,
   "metadata": {
    "ExecuteTime": {
     "end_time": "2021-09-10T02:29:34.286459Z",
     "start_time": "2021-09-10T02:29:34.263459Z"
    }
   },
   "outputs": [],
   "source": [
    "X = pd.get_dummies(X)"
   ]
  },
  {
   "cell_type": "code",
   "execution_count": 7,
   "metadata": {
    "ExecuteTime": {
     "end_time": "2021-09-10T02:29:39.740213Z",
     "start_time": "2021-09-10T02:29:39.712225Z"
    }
   },
   "outputs": [
    {
     "data": {
      "text/html": [
       "<div>\n",
       "<style scoped>\n",
       "    .dataframe tbody tr th:only-of-type {\n",
       "        vertical-align: middle;\n",
       "    }\n",
       "\n",
       "    .dataframe tbody tr th {\n",
       "        vertical-align: top;\n",
       "    }\n",
       "\n",
       "    .dataframe thead th {\n",
       "        text-align: right;\n",
       "    }\n",
       "</style>\n",
       "<table border=\"1\" class=\"dataframe\">\n",
       "  <thead>\n",
       "    <tr style=\"text-align: right;\">\n",
       "      <th></th>\n",
       "      <th>area</th>\n",
       "      <th>quarto</th>\n",
       "      <th>zona_leste</th>\n",
       "      <th>zona_norte</th>\n",
       "      <th>zona_oeste</th>\n",
       "      <th>zona_sul</th>\n",
       "    </tr>\n",
       "  </thead>\n",
       "  <tbody>\n",
       "    <tr>\n",
       "      <th>0</th>\n",
       "      <td>265.0</td>\n",
       "      <td>3.0</td>\n",
       "      <td>0</td>\n",
       "      <td>0</td>\n",
       "      <td>0</td>\n",
       "      <td>1</td>\n",
       "    </tr>\n",
       "    <tr>\n",
       "      <th>1</th>\n",
       "      <td>45.0</td>\n",
       "      <td>1.0</td>\n",
       "      <td>0</td>\n",
       "      <td>0</td>\n",
       "      <td>0</td>\n",
       "      <td>1</td>\n",
       "    </tr>\n",
       "    <tr>\n",
       "      <th>2</th>\n",
       "      <td>45.0</td>\n",
       "      <td>1.0</td>\n",
       "      <td>0</td>\n",
       "      <td>0</td>\n",
       "      <td>0</td>\n",
       "      <td>1</td>\n",
       "    </tr>\n",
       "    <tr>\n",
       "      <th>3</th>\n",
       "      <td>112.0</td>\n",
       "      <td>3.0</td>\n",
       "      <td>0</td>\n",
       "      <td>0</td>\n",
       "      <td>0</td>\n",
       "      <td>1</td>\n",
       "    </tr>\n",
       "    <tr>\n",
       "      <th>4</th>\n",
       "      <td>125.0</td>\n",
       "      <td>3.0</td>\n",
       "      <td>0</td>\n",
       "      <td>0</td>\n",
       "      <td>0</td>\n",
       "      <td>1</td>\n",
       "    </tr>\n",
       "  </tbody>\n",
       "</table>\n",
       "</div>"
      ],
      "text/plain": [
       "    area  quarto  zona_leste  zona_norte  zona_oeste  zona_sul\n",
       "0  265.0     3.0           0           0           0         1\n",
       "1   45.0     1.0           0           0           0         1\n",
       "2   45.0     1.0           0           0           0         1\n",
       "3  112.0     3.0           0           0           0         1\n",
       "4  125.0     3.0           0           0           0         1"
      ]
     },
     "execution_count": 7,
     "metadata": {},
     "output_type": "execute_result"
    }
   ],
   "source": [
    "X.head()"
   ]
  },
  {
   "cell_type": "code",
   "execution_count": 8,
   "metadata": {
    "ExecuteTime": {
     "end_time": "2021-09-10T02:29:46.482089Z",
     "start_time": "2021-09-10T02:29:46.465084Z"
    }
   },
   "outputs": [],
   "source": [
    "y = dados['aluguel']"
   ]
  },
  {
   "cell_type": "code",
   "execution_count": 9,
   "metadata": {
    "ExecuteTime": {
     "end_time": "2021-09-10T02:29:51.381313Z",
     "start_time": "2021-09-10T02:29:51.365312Z"
    }
   },
   "outputs": [
    {
     "data": {
      "text/plain": [
       "0"
      ]
     },
     "execution_count": 9,
     "metadata": {},
     "output_type": "execute_result"
    }
   ],
   "source": [
    "y.isna().sum()"
   ]
  },
  {
   "cell_type": "code",
   "execution_count": 10,
   "metadata": {
    "ExecuteTime": {
     "end_time": "2021-09-10T02:30:00.181413Z",
     "start_time": "2021-09-10T02:29:58.194471Z"
    }
   },
   "outputs": [],
   "source": [
    "from sklearn.model_selection import train_test_split\n",
    "\n",
    "SEED = 42\n",
    "X_train, X_test, y_train, y_test = train_test_split(X, y, \n",
    "                                                    random_state = SEED,\n",
    "                                                    test_size = 0.25)"
   ]
  },
  {
   "cell_type": "markdown",
   "metadata": {},
   "source": [
    "# Modelo \"Baseline\" (Ponto de Partida)"
   ]
  },
  {
   "cell_type": "code",
   "execution_count": 11,
   "metadata": {
    "ExecuteTime": {
     "end_time": "2021-09-10T02:30:30.624025Z",
     "start_time": "2021-09-10T02:30:30.473484Z"
    }
   },
   "outputs": [
    {
     "data": {
      "text/plain": [
       "-0.003809830571262829"
      ]
     },
     "execution_count": 11,
     "metadata": {},
     "output_type": "execute_result"
    }
   ],
   "source": [
    "from sklearn.linear_model import LinearRegression\n",
    "lr = LinearRegression()\n",
    "lr.fit(X_train, y_train)\n",
    "lr.score(X_test, y_test)"
   ]
  },
  {
   "cell_type": "code",
   "execution_count": 12,
   "metadata": {
    "ExecuteTime": {
     "end_time": "2021-09-10T02:30:39.251153Z",
     "start_time": "2021-09-10T02:30:39.224159Z"
    }
   },
   "outputs": [
    {
     "data": {
      "text/plain": [
       "-0.005107788952471326"
      ]
     },
     "execution_count": 12,
     "metadata": {},
     "output_type": "execute_result"
    }
   ],
   "source": [
    "from sklearn.dummy import DummyRegressor\n",
    "reg = DummyRegressor(strategy='mean')\n",
    "reg.fit(X_train, y_train)\n",
    "reg.score(X_test, y_test)"
   ]
  },
  {
   "cell_type": "markdown",
   "metadata": {},
   "source": [
    "# Fazer triagem entre diferentes estimadores"
   ]
  },
  {
   "cell_type": "code",
   "execution_count": 17,
   "metadata": {
    "ExecuteTime": {
     "end_time": "2021-09-10T02:32:28.667034Z",
     "start_time": "2021-09-10T02:32:25.131799Z"
    }
   },
   "outputs": [],
   "source": [
    "from sklearn.linear_model import RidgeCV, Lasso, ElasticNet, LassoLars, HuberRegressor\n",
    "from sklearn.svm import SVR\n",
    "from sklearn.neighbors import KNeighborsRegressor\n",
    "from sklearn.ensemble import GradientBoostingRegressor, AdaBoostRegressor\n",
    "from sklearn.neural_network import MLPRegressor\n",
    "from sklearn.ensemble import RandomForestRegressor\n",
    "from lightgbm import LGBMRegressor\n",
    "from xgboost import XGBRegressor"
   ]
  },
  {
   "cell_type": "code",
   "execution_count": 18,
   "metadata": {
    "ExecuteTime": {
     "end_time": "2021-09-10T02:32:39.190911Z",
     "start_time": "2021-09-10T02:32:39.174920Z"
    }
   },
   "outputs": [],
   "source": [
    "reg_list = [RidgeCV(),\n",
    "            LGBMRegressor(), \n",
    "            XGBRegressor(objective='reg:squarederror'),\n",
    "            SVR(),\n",
    "            KNeighborsRegressor(),\n",
    "            RandomForestRegressor(),\n",
    "            AdaBoostRegressor(),\n",
    "            GradientBoostingRegressor(),\n",
    "            MLPRegressor()\n",
    "            ]"
   ]
  },
  {
   "cell_type": "code",
   "execution_count": 21,
   "metadata": {
    "ExecuteTime": {
     "end_time": "2021-09-10T02:33:35.446337Z",
     "start_time": "2021-09-10T02:33:22.099008Z"
    }
   },
   "outputs": [
    {
     "name": "stdout",
     "output_type": "stream",
     "text": [
      "Treinando Modelo RidgeCV\n",
      "R2 Score Train: 0.38476237575777206\n",
      "R2 Score Valid: 0.37 +- 0.08\n",
      "R2 Score Test: -0.0037795041016013275\n",
      "================================================================================\n",
      "Treinando Modelo LGBMRegressor\n",
      "R2 Score Train: 0.5384384436386846\n",
      "R2 Score Valid: 0.33 +- 0.09\n",
      "R2 Score Test: -0.0024979553447663783\n",
      "================================================================================\n",
      "Treinando Modelo XGBRegressor\n",
      "R2 Score Train: 0.8486142039346978\n",
      "R2 Score Valid: 0.05 +- 0.21\n",
      "R2 Score Test: -0.002254966901589217\n",
      "================================================================================\n",
      "Treinando Modelo SVR\n",
      "R2 Score Train: -0.037486119821007025\n",
      "R2 Score Valid: -0.05 +- 0.03\n",
      "R2 Score Test: -0.012193798060607275\n",
      "================================================================================\n",
      "Treinando Modelo KNeighborsRegressor\n",
      "R2 Score Train: 0.46407170409611276\n",
      "R2 Score Valid: 0.22 +- 0.06\n",
      "R2 Score Test: -0.007070770505739121\n",
      "================================================================================\n",
      "Treinando Modelo RandomForestRegressor\n",
      "R2 Score Train: 0.7808295006433801\n",
      "R2 Score Valid: 0.23 +- 0.13\n",
      "R2 Score Test: -0.000989063316143124\n",
      "================================================================================\n",
      "Treinando Modelo AdaBoostRegressor\n",
      "R2 Score Train: 0.48637312651872744\n",
      "R2 Score Valid: 0.22 +- 0.06\n",
      "R2 Score Test: 0.0007393841745568785\n",
      "================================================================================\n",
      "Treinando Modelo GradientBoostingRegressor\n",
      "R2 Score Train: 0.6838539795868791\n",
      "R2 Score Valid: 0.27 +- 0.14\n",
      "R2 Score Test: -0.0008601878511758088\n",
      "================================================================================\n",
      "Treinando Modelo MLPRegressor\n"
     ]
    },
    {
     "name": "stderr",
     "output_type": "stream",
     "text": [
      "C:\\ProgramData\\Anaconda3\\lib\\site-packages\\sklearn\\neural_network\\_multilayer_perceptron.py:582: ConvergenceWarning: Stochastic Optimizer: Maximum iterations (200) reached and the optimization hasn't converged yet.\n",
      "  warnings.warn(\n",
      "C:\\ProgramData\\Anaconda3\\lib\\site-packages\\sklearn\\neural_network\\_multilayer_perceptron.py:582: ConvergenceWarning: Stochastic Optimizer: Maximum iterations (200) reached and the optimization hasn't converged yet.\n",
      "  warnings.warn(\n",
      "C:\\ProgramData\\Anaconda3\\lib\\site-packages\\sklearn\\neural_network\\_multilayer_perceptron.py:582: ConvergenceWarning: Stochastic Optimizer: Maximum iterations (200) reached and the optimization hasn't converged yet.\n",
      "  warnings.warn(\n",
      "C:\\ProgramData\\Anaconda3\\lib\\site-packages\\sklearn\\neural_network\\_multilayer_perceptron.py:582: ConvergenceWarning: Stochastic Optimizer: Maximum iterations (200) reached and the optimization hasn't converged yet.\n",
      "  warnings.warn(\n",
      "C:\\ProgramData\\Anaconda3\\lib\\site-packages\\sklearn\\neural_network\\_multilayer_perceptron.py:582: ConvergenceWarning: Stochastic Optimizer: Maximum iterations (200) reached and the optimization hasn't converged yet.\n",
      "  warnings.warn(\n"
     ]
    },
    {
     "name": "stdout",
     "output_type": "stream",
     "text": [
      "R2 Score Train: 0.20629801036097795\n",
      "R2 Score Valid: 0.19 +- 0.09\n",
      "R2 Score Test: -0.008406292465828358\n",
      "================================================================================\n"
     ]
    },
    {
     "name": "stderr",
     "output_type": "stream",
     "text": [
      "C:\\ProgramData\\Anaconda3\\lib\\site-packages\\sklearn\\neural_network\\_multilayer_perceptron.py:582: ConvergenceWarning: Stochastic Optimizer: Maximum iterations (200) reached and the optimization hasn't converged yet.\n",
      "  warnings.warn(\n"
     ]
    }
   ],
   "source": [
    "from sklearn.model_selection import cross_val_score\n",
    "import numpy as np\n",
    "\n",
    "for reg in reg_list:\n",
    "    print(f'Treinando Modelo {reg.__class__.__name__}')\n",
    "    reg.fit(X_train, y_train)\n",
    "    \n",
    "    train_score = reg.score(X_train, y_train)\n",
    "    cv_scores = cross_val_score(reg, X_train, y_train)\n",
    "    test_score = reg.score(X_test, y_test)\n",
    "    \n",
    "    print(f\"R2 Score Train: {train_score}\")\n",
    "    print(f\"R2 Score Valid: {np.mean(cv_scores):.2f} +- {np.std(cv_scores):.2f}\")\n",
    "    print(f\"R2 Score Test: {test_score}\")\n",
    "    print('='*80)"
   ]
  },
  {
   "cell_type": "code",
   "execution_count": 22,
   "metadata": {
    "ExecuteTime": {
     "end_time": "2021-09-10T02:33:40.762679Z",
     "start_time": "2021-09-10T02:33:40.623674Z"
    }
   },
   "outputs": [],
   "source": [
    "# Bonus: Testando com todos os regressores do sklearn\n",
    "from sklearn.utils import all_estimators\n",
    "\n",
    "estimators = all_estimators(type_filter='regressor')\n",
    "\n",
    "relatorio = {'nome':[],\n",
    "             'train_score':[],\n",
    "             'cv_scores_mean':[],\n",
    "             'test_score':[],\n",
    "             'estimador':[]\n",
    "             }\n",
    "\n",
    "ignore_list = ['IsotonicRegression',\n",
    " 'MultiOutputRegressor',\n",
    " 'ElasticNet',\n",
    " 'MultiTaskElasticNet',\n",
    " 'MultiTaskElasticNetCV',\n",
    " 'MultiTaskLasso',\n",
    " 'MultiTaskLassoCV',\n",
    " 'RadiusNeighborsRegressor',\n",
    " 'RegressorChain',\n",
    " 'StackingRegressor',\n",
    " 'VotingRegressor']"
   ]
  },
  {
   "cell_type": "code",
   "execution_count": 23,
   "metadata": {
    "ExecuteTime": {
     "end_time": "2021-09-10T02:33:44.803388Z",
     "start_time": "2021-09-10T02:33:44.793405Z"
    }
   },
   "outputs": [],
   "source": [
    "estimators.extend(\n",
    "    [('LGBMRegressor', LGBMRegressor),\n",
    "     ('XGBRegressor', XGBRegressor)]\n",
    ")"
   ]
  },
  {
   "cell_type": "code",
   "execution_count": 24,
   "metadata": {
    "ExecuteTime": {
     "end_time": "2021-09-10T02:34:36.341353Z",
     "start_time": "2021-09-10T02:34:02.973711Z"
    }
   },
   "outputs": [
    {
     "name": "stdout",
     "output_type": "stream",
     "text": [
      "Treinando Modelo ARDRegression\n",
      "R2 Score Train: 0.3837395568162053\n",
      "R2 Score Valid: 0.36 +- 0.08\n",
      "R2 Score Test: -0.003118757051941312\n",
      "================================================================================\n",
      "Treinando Modelo AdaBoostRegressor\n",
      "R2 Score Train: 0.4917543236555235\n",
      "R2 Score Valid: 0.24 +- 0.07\n",
      "R2 Score Test: 0.002487555314927281\n",
      "================================================================================\n",
      "Treinando Modelo BaggingRegressor\n",
      "R2 Score Train: 0.7800794609511247\n",
      "R2 Score Valid: 0.19 +- 0.11\n",
      "R2 Score Test: -0.0016988409386848868\n",
      "================================================================================\n",
      "Treinando Modelo BayesianRidge\n",
      "R2 Score Train: 0.38463987462426397\n",
      "R2 Score Valid: 0.37 +- 0.07\n",
      "R2 Score Test: -0.003598954255709108\n",
      "================================================================================\n",
      "Treinando Modelo CCA\n",
      "R2 Score Train: 0.21729569023085238\n",
      "R2 Score Valid: 0.17 +- 0.16\n",
      "R2 Score Test: -0.017214914511364032\n",
      "================================================================================\n",
      "Treinando Modelo DecisionTreeRegressor\n",
      "R2 Score Train: 0.8560440706474008"
     ]
    },
    {
     "name": "stderr",
     "output_type": "stream",
     "text": [
      "C:\\ProgramData\\Anaconda3\\lib\\site-packages\\sklearn\\cross_decomposition\\_pls.py:323: UserWarning: Y residual constant at iteration 1\n",
      "  warnings.warn('Y residual constant at iteration %s' % k)\n",
      "C:\\ProgramData\\Anaconda3\\lib\\site-packages\\sklearn\\cross_decomposition\\_pls.py:323: UserWarning: Y residual constant at iteration 1\n",
      "  warnings.warn('Y residual constant at iteration %s' % k)\n",
      "C:\\ProgramData\\Anaconda3\\lib\\site-packages\\sklearn\\cross_decomposition\\_pls.py:323: UserWarning: Y residual constant at iteration 1\n",
      "  warnings.warn('Y residual constant at iteration %s' % k)\n",
      "C:\\ProgramData\\Anaconda3\\lib\\site-packages\\sklearn\\cross_decomposition\\_pls.py:323: UserWarning: Y residual constant at iteration 1\n",
      "  warnings.warn('Y residual constant at iteration %s' % k)\n",
      "C:\\ProgramData\\Anaconda3\\lib\\site-packages\\sklearn\\cross_decomposition\\_pls.py:323: UserWarning: Y residual constant at iteration 1\n",
      "  warnings.warn('Y residual constant at iteration %s' % k)\n",
      "C:\\ProgramData\\Anaconda3\\lib\\site-packages\\sklearn\\cross_decomposition\\_pls.py:323: UserWarning: Y residual constant at iteration 1\n",
      "  warnings.warn('Y residual constant at iteration %s' % k)\n"
     ]
    },
    {
     "name": "stdout",
     "output_type": "stream",
     "text": [
      "\n",
      "R2 Score Valid: -0.32 +- 0.43\n",
      "R2 Score Test: -0.003239308801244345\n",
      "================================================================================\n",
      "Treinando Modelo DummyRegressor\n",
      "R2 Score Train: 0.0\n",
      "R2 Score Valid: -0.01 +- 0.01\n",
      "R2 Score Test: -0.005107788952471326\n",
      "================================================================================\n",
      "Treinando Modelo ElasticNetCV\n",
      "R2 Score Train: 0.2768701729583485\n",
      "R2 Score Valid: 0.27 +- 0.05\n",
      "R2 Score Test: -0.00019238746033667375\n",
      "================================================================================\n",
      "Treinando Modelo ExtraTreeRegressor\n",
      "R2 Score Train: 0.8560440706474008\n",
      "R2 Score Valid: -0.03 +- 0.22\n",
      "R2 Score Test: -0.0040777258132875804\n",
      "================================================================================\n",
      "Treinando Modelo ExtraTreesRegressor\n",
      "R2 Score Train: 0.8560440571248296\n",
      "R2 Score Valid: 0.11 +- 0.19\n",
      "R2 Score Test: -0.002086307830163836\n",
      "================================================================================\n",
      "Treinando Modelo GammaRegressor\n",
      "R2 Score Train: 0.39089295253613965\n",
      "R2 Score Valid: 0.38 +- 0.07\n",
      "R2 Score Test: -0.12427809111042709\n",
      "================================================================================\n",
      "Treinando Modelo GaussianProcessRegressor\n"
     ]
    },
    {
     "name": "stderr",
     "output_type": "stream",
     "text": [
      "C:\\ProgramData\\Anaconda3\\lib\\site-packages\\sklearn\\_loss\\glm_distribution.py:246: RuntimeWarning: overflow encountered in power\n",
      "  return np.power(y_pred, self.power)\n",
      "C:\\ProgramData\\Anaconda3\\lib\\site-packages\\sklearn\\_loss\\glm_distribution.py:246: RuntimeWarning: overflow encountered in power\n",
      "  return np.power(y_pred, self.power)\n",
      "C:\\ProgramData\\Anaconda3\\lib\\site-packages\\sklearn\\_loss\\glm_distribution.py:246: RuntimeWarning: overflow encountered in power\n",
      "  return np.power(y_pred, self.power)\n",
      "C:\\ProgramData\\Anaconda3\\lib\\site-packages\\sklearn\\_loss\\glm_distribution.py:246: RuntimeWarning: overflow encountered in power\n",
      "  return np.power(y_pred, self.power)\n",
      "C:\\ProgramData\\Anaconda3\\lib\\site-packages\\sklearn\\_loss\\glm_distribution.py:246: RuntimeWarning: overflow encountered in power\n",
      "  return np.power(y_pred, self.power)\n",
      "C:\\ProgramData\\Anaconda3\\lib\\site-packages\\sklearn\\_loss\\glm_distribution.py:246: RuntimeWarning: overflow encountered in power\n",
      "  return np.power(y_pred, self.power)\n"
     ]
    },
    {
     "name": "stdout",
     "output_type": "stream",
     "text": [
      "R2 Score Train: 0.8560440706423424\n",
      "R2 Score Valid: -0.21 +- 0.06\n",
      "R2 Score Test: -0.023165704572007062\n",
      "================================================================================\n",
      "Treinando Modelo GradientBoostingRegressor\n",
      "R2 Score Train: 0.6838539795868791\n",
      "R2 Score Valid: 0.27 +- 0.14\n",
      "R2 Score Test: -0.0011171962336287145\n",
      "================================================================================\n",
      "Treinando Modelo HistGradientBoostingRegressor\n",
      "R2 Score Train: 0.542000552588427\n",
      "R2 Score Valid: 0.34 +- 0.09\n",
      "R2 Score Test: -0.002833151783537824\n",
      "================================================================================\n",
      "Treinando Modelo HuberRegressor\n",
      "R2 Score Train: 0.3442860949745056\n",
      "R2 Score Valid: 0.34 +- 0.06\n",
      "R2 Score Test: -0.004449777536515542\n",
      "================================================================================\n",
      "Treinando Modelo KNeighborsRegressor\n",
      "R2 Score Train: 0.46407170409611276\n",
      "R2 Score Valid: 0.22 +- 0.06\n",
      "R2 Score Test: -0.007070770505739121\n",
      "================================================================================\n",
      "Treinando Modelo KernelRidge\n",
      "R2 Score Train: 0.38468832323614766\n",
      "R2 Score Valid: 0.37 +- 0.08\n",
      "R2 Score Test: -0.0038388256420831546\n",
      "================================================================================\n",
      "Treinando Modelo Lars\n",
      "R2 Score Train: 0.384764894346064\n",
      "R2 Score Valid: 0.37 +- 0.08\n",
      "R2 Score Test: -0.003809830571263495\n",
      "================================================================================\n",
      "Treinando Modelo LarsCV\n"
     ]
    },
    {
     "name": "stderr",
     "output_type": "stream",
     "text": [
      "C:\\ProgramData\\Anaconda3\\lib\\site-packages\\sklearn\\linear_model\\_least_angle.py:571: ConvergenceWarning: Regressors in active set degenerate. Dropping a regressor, after 6 iterations, i.e. alpha=1.676e+00, with an active set of 5 regressors, and the smallest cholesky pivot element being 7.598e-08. Reduce max_iter or increase eps parameters.\n",
      "  warnings.warn('Regressors in active set degenerate. '\n",
      "C:\\ProgramData\\Anaconda3\\lib\\site-packages\\sklearn\\linear_model\\_least_angle.py:571: ConvergenceWarning: Regressors in active set degenerate. Dropping a regressor, after 6 iterations, i.e. alpha=2.506e-02, with an active set of 5 regressors, and the smallest cholesky pivot element being 3.650e-08. Reduce max_iter or increase eps parameters.\n",
      "  warnings.warn('Regressors in active set degenerate. '\n",
      "C:\\ProgramData\\Anaconda3\\lib\\site-packages\\sklearn\\linear_model\\_least_angle.py:571: ConvergenceWarning: Regressors in active set degenerate. Dropping a regressor, after 6 iterations, i.e. alpha=5.537e-01, with an active set of 5 regressors, and the smallest cholesky pivot element being 1.490e-08. Reduce max_iter or increase eps parameters.\n",
      "  warnings.warn('Regressors in active set degenerate. '\n",
      "C:\\ProgramData\\Anaconda3\\lib\\site-packages\\sklearn\\linear_model\\_least_angle.py:571: ConvergenceWarning: Regressors in active set degenerate. Dropping a regressor, after 6 iterations, i.e. alpha=2.033e+00, with an active set of 5 regressors, and the smallest cholesky pivot element being 8.297e-08. Reduce max_iter or increase eps parameters.\n",
      "  warnings.warn('Regressors in active set degenerate. '\n",
      "C:\\ProgramData\\Anaconda3\\lib\\site-packages\\sklearn\\linear_model\\_least_angle.py:571: ConvergenceWarning: Regressors in active set degenerate. Dropping a regressor, after 6 iterations, i.e. alpha=5.098e-02, with an active set of 5 regressors, and the smallest cholesky pivot element being 2.356e-08. Reduce max_iter or increase eps parameters.\n",
      "  warnings.warn('Regressors in active set degenerate. '\n"
     ]
    },
    {
     "name": "stdout",
     "output_type": "stream",
     "text": [
      "R2 Score Train: 0.384764894346064\n",
      "R2 Score Valid: 0.36 +- 0.07\n",
      "R2 Score Test: -0.003809830571263495\n",
      "================================================================================\n",
      "Treinando Modelo Lasso\n",
      "R2 Score Train: 0.3847580538454931\n",
      "R2 Score Valid: 0.37 +- 0.08\n",
      "R2 Score Test: -0.0037618124308949064\n",
      "================================================================================\n",
      "Treinando Modelo LassoCV\n",
      "R2 Score Train: 0.3748273512165764\n",
      "R2 Score Valid: 0.36 +- 0.07\n",
      "R2 Score Test: -0.00225267843360899\n",
      "================================================================================\n",
      "Treinando Modelo LassoLars\n",
      "R2 Score Train: 0.3828006014388622\n",
      "R2 Score Valid: 0.37 +- 0.07\n",
      "R2 Score Test: -0.0029439726663484933\n",
      "================================================================================\n",
      "Treinando Modelo LassoLarsCV\n",
      "R2 Score Train: 0.384764894346064\n",
      "R2 Score Valid: 0.36 +- 0.07\n",
      "R2 Score Test: -0.003809830571263495\n",
      "================================================================================\n",
      "Treinando Modelo LassoLarsIC\n",
      "R2 Score Train: 0.38319149413629006\n",
      "R2 Score Valid: 0.36 +- 0.08\n",
      "R2 Score Test: -0.0030564341821499585\n",
      "================================================================================\n",
      "Treinando Modelo LinearRegression\n",
      "R2 Score Train: 0.384764894346064\n",
      "R2 Score Valid: 0.37 +- 0.08\n",
      "R2 Score Test: -0.003809830571262829\n",
      "================================================================================\n",
      "Treinando Modelo LinearSVR\n",
      "R2 Score Train: 0.23248149395857365\n",
      "R2 Score Valid: 0.22 +- 0.08\n",
      "R2 Score Test: -0.007823845143531516\n",
      "================================================================================\n",
      "Treinando Modelo MLPRegressor\n"
     ]
    },
    {
     "name": "stderr",
     "output_type": "stream",
     "text": [
      "C:\\ProgramData\\Anaconda3\\lib\\site-packages\\sklearn\\neural_network\\_multilayer_perceptron.py:582: ConvergenceWarning: Stochastic Optimizer: Maximum iterations (200) reached and the optimization hasn't converged yet.\n",
      "  warnings.warn(\n",
      "C:\\ProgramData\\Anaconda3\\lib\\site-packages\\sklearn\\neural_network\\_multilayer_perceptron.py:582: ConvergenceWarning: Stochastic Optimizer: Maximum iterations (200) reached and the optimization hasn't converged yet.\n",
      "  warnings.warn(\n",
      "C:\\ProgramData\\Anaconda3\\lib\\site-packages\\sklearn\\neural_network\\_multilayer_perceptron.py:582: ConvergenceWarning: Stochastic Optimizer: Maximum iterations (200) reached and the optimization hasn't converged yet.\n",
      "  warnings.warn(\n",
      "C:\\ProgramData\\Anaconda3\\lib\\site-packages\\sklearn\\neural_network\\_multilayer_perceptron.py:582: ConvergenceWarning: Stochastic Optimizer: Maximum iterations (200) reached and the optimization hasn't converged yet.\n",
      "  warnings.warn(\n",
      "C:\\ProgramData\\Anaconda3\\lib\\site-packages\\sklearn\\neural_network\\_multilayer_perceptron.py:582: ConvergenceWarning: Stochastic Optimizer: Maximum iterations (200) reached and the optimization hasn't converged yet.\n",
      "  warnings.warn(\n",
      "C:\\ProgramData\\Anaconda3\\lib\\site-packages\\sklearn\\neural_network\\_multilayer_perceptron.py:582: ConvergenceWarning: Stochastic Optimizer: Maximum iterations (200) reached and the optimization hasn't converged yet.\n",
      "  warnings.warn(\n"
     ]
    },
    {
     "name": "stdout",
     "output_type": "stream",
     "text": [
      "R2 Score Train: 0.20681728867327887\n",
      "R2 Score Valid: 0.19 +- 0.09\n",
      "R2 Score Test: -0.008426525386655559\n",
      "================================================================================\n",
      "Treinando Modelo NuSVR\n",
      "R2 Score Train: 0.0035537186164757983\n",
      "R2 Score Valid: -0.01 +- 0.03\n",
      "R2 Score Test: -0.008687236826386613\n",
      "================================================================================\n",
      "Treinando Modelo OrthogonalMatchingPursuit\n",
      "R2 Score Train: 0.2760432746809638\n",
      "R2 Score Valid: 0.27 +- 0.05\n",
      "R2 Score Test: -0.0003084358349643157\n",
      "================================================================================\n",
      "Treinando Modelo OrthogonalMatchingPursuitCV\n",
      "R2 Score Train: 0.384764894346064\n",
      "R2 Score Valid: 0.36 +- 0.07\n",
      "R2 Score Test: -0.003809830571263495\n",
      "================================================================================\n",
      "Treinando Modelo PLSCanonical\n",
      "R2 Score Train: -0.07359477106318946\n",
      "R2 Score Valid: -0.15 +- 0.24\n",
      "R2 Score Test: -0.02448366225550469\n",
      "================================================================================\n",
      "Treinando Modelo PLSRegression\n",
      "R2 Score Train: 0.3761570814917763\n",
      "R2 Score Valid: 0.35 +- 0.08\n",
      "R2 Score Test: -0.003980219562063292\n",
      "================================================================================\n",
      "Treinando Modelo PassiveAggressiveRegressor\n",
      "R2 Score Train: -0.031996904410201754\n",
      "R2 Score Valid: 0.09 +- 0.17\n",
      "R2 Score Test: -0.02212373666329337\n",
      "================================================================================\n",
      "Treinando Modelo PoissonRegressor\n"
     ]
    },
    {
     "name": "stderr",
     "output_type": "stream",
     "text": [
      "C:\\ProgramData\\Anaconda3\\lib\\site-packages\\sklearn\\cross_decomposition\\_pls.py:323: UserWarning: Y residual constant at iteration 1\n",
      "  warnings.warn('Y residual constant at iteration %s' % k)\n",
      "C:\\ProgramData\\Anaconda3\\lib\\site-packages\\sklearn\\cross_decomposition\\_pls.py:323: UserWarning: Y residual constant at iteration 1\n",
      "  warnings.warn('Y residual constant at iteration %s' % k)\n",
      "C:\\ProgramData\\Anaconda3\\lib\\site-packages\\sklearn\\cross_decomposition\\_pls.py:323: UserWarning: Y residual constant at iteration 1\n",
      "  warnings.warn('Y residual constant at iteration %s' % k)\n",
      "C:\\ProgramData\\Anaconda3\\lib\\site-packages\\sklearn\\cross_decomposition\\_pls.py:323: UserWarning: Y residual constant at iteration 1\n",
      "  warnings.warn('Y residual constant at iteration %s' % k)\n",
      "C:\\ProgramData\\Anaconda3\\lib\\site-packages\\sklearn\\cross_decomposition\\_pls.py:323: UserWarning: Y residual constant at iteration 1\n",
      "  warnings.warn('Y residual constant at iteration %s' % k)\n",
      "C:\\ProgramData\\Anaconda3\\lib\\site-packages\\sklearn\\cross_decomposition\\_pls.py:323: UserWarning: Y residual constant at iteration 1\n",
      "  warnings.warn('Y residual constant at iteration %s' % k)\n",
      "C:\\ProgramData\\Anaconda3\\lib\\site-packages\\sklearn\\linear_model\\_glm\\glm.py:285: ConvergenceWarning: lbfgs failed to converge (status=1):\n",
      "STOP: TOTAL NO. of ITERATIONS REACHED LIMIT.\n",
      "\n",
      "Increase the number of iterations (max_iter) or scale the data as shown in:\n",
      "    https://scikit-learn.org/stable/modules/preprocessing.html\n",
      "  self.n_iter_ = _check_optimize_result(\"lbfgs\", opt_res)\n",
      "C:\\ProgramData\\Anaconda3\\lib\\site-packages\\sklearn\\linear_model\\_glm\\glm.py:285: ConvergenceWarning: lbfgs failed to converge (status=1):\n",
      "STOP: TOTAL NO. of ITERATIONS REACHED LIMIT.\n",
      "\n",
      "Increase the number of iterations (max_iter) or scale the data as shown in:\n",
      "    https://scikit-learn.org/stable/modules/preprocessing.html\n",
      "  self.n_iter_ = _check_optimize_result(\"lbfgs\", opt_res)\n",
      "C:\\ProgramData\\Anaconda3\\lib\\site-packages\\sklearn\\linear_model\\_glm\\glm.py:285: ConvergenceWarning: lbfgs failed to converge (status=1):\n",
      "STOP: TOTAL NO. of ITERATIONS REACHED LIMIT.\n",
      "\n",
      "Increase the number of iterations (max_iter) or scale the data as shown in:\n",
      "    https://scikit-learn.org/stable/modules/preprocessing.html\n",
      "  self.n_iter_ = _check_optimize_result(\"lbfgs\", opt_res)\n",
      "C:\\ProgramData\\Anaconda3\\lib\\site-packages\\sklearn\\linear_model\\_glm\\glm.py:285: ConvergenceWarning: lbfgs failed to converge (status=1):\n",
      "STOP: TOTAL NO. of ITERATIONS REACHED LIMIT.\n",
      "\n",
      "Increase the number of iterations (max_iter) or scale the data as shown in:\n",
      "    https://scikit-learn.org/stable/modules/preprocessing.html\n",
      "  self.n_iter_ = _check_optimize_result(\"lbfgs\", opt_res)\n"
     ]
    },
    {
     "name": "stdout",
     "output_type": "stream",
     "text": [
      "R2 Score Train: 0.46298066248195235\n",
      "R2 Score Valid: 0.44 +- 0.11\n",
      "R2 Score Test: -0.08090316471313286\n",
      "================================================================================\n",
      "Treinando Modelo RANSACRegressor\n",
      "R2 Score Train: 0.19404362172277456\n",
      "R2 Score Valid: 0.13 +- 0.06\n",
      "R2 Score Test: -0.010040869830625132\n",
      "================================================================================\n",
      "Treinando Modelo RandomForestRegressor\n",
      "R2 Score Train: 0.7785304850782545\n",
      "R2 Score Valid: 0.21 +- 0.15\n",
      "R2 Score Test: -0.0014899800751815295\n",
      "================================================================================\n",
      "Treinando Modelo Ridge\n",
      "R2 Score Train: 0.38476237575777217\n",
      "R2 Score Valid: 0.37 +- 0.08\n",
      "R2 Score Test: -0.0037795041038273247\n",
      "================================================================================\n",
      "Treinando Modelo RidgeCV\n",
      "R2 Score Train: 0.38476237575777206\n",
      "R2 Score Valid: 0.37 +- 0.08\n",
      "R2 Score Test: -0.0037795041016013275\n",
      "================================================================================\n",
      "Treinando Modelo SGDRegressor\n",
      "R2 Score Train: -2.828587121009443e+18\n",
      "R2 Score Valid: -3648881526510548480.00 +- 4305193059443459584.00\n",
      "R2 Score Test: -8.465134082531642e+16\n",
      "================================================================================\n",
      "Treinando Modelo SVR\n",
      "R2 Score Train: -0.037486119821007025\n",
      "R2 Score Valid: -0.05 +- 0.03\n",
      "R2 Score Test: -0.012193798060607275\n",
      "================================================================================\n",
      "Treinando Modelo TheilSenRegressor\n",
      "R2 Score Train: 0.36139652513348497\n",
      "R2 Score Valid: 0.35 +- 0.06\n",
      "R2 Score Test: -0.003767499239671235\n",
      "================================================================================\n",
      "Treinando Modelo TransformedTargetRegressor\n",
      "R2 Score Train: 0.384764894346064\n",
      "R2 Score Valid: 0.37 +- 0.08\n",
      "R2 Score Test: -0.003809830571262829\n",
      "================================================================================\n",
      "Treinando Modelo TweedieRegressor\n",
      "R2 Score Train: 0.3146534239907698\n",
      "R2 Score Valid: 0.30 +- 0.05\n",
      "R2 Score Test: -0.0005524426083682865\n",
      "================================================================================\n",
      "Treinando Modelo LGBMRegressor\n",
      "R2 Score Train: 0.5384384436386846\n",
      "R2 Score Valid: 0.33 +- 0.09\n",
      "R2 Score Test: -0.0024979553447663783\n",
      "================================================================================\n",
      "Treinando Modelo XGBRegressor\n",
      "R2 Score Train: 0.8486142039346978\n",
      "R2 Score Valid: 0.05 +- 0.21\n",
      "R2 Score Test: -0.002254966901589217\n",
      "================================================================================\n"
     ]
    }
   ],
   "source": [
    "for name, RegressorClass in estimators:\n",
    "  if name not in ignore_list:\n",
    "    print(f'Treinando Modelo {name}')\n",
    "    reg = RegressorClass()\n",
    "    reg.fit(X_train, y_train)\n",
    "\n",
    "    train_score = reg.score(X_train, y_train)\n",
    "    cv_scores = cross_val_score(reg, X_train, y_train)\n",
    "    test_score = reg.score(X_test, y_test)\n",
    "\n",
    "    print(f\"R2 Score Train: {train_score}\")\n",
    "    print(f\"R2 Score Valid: {np.mean(cv_scores):.2f} +- {np.std(cv_scores):.2f}\")\n",
    "    print(f\"R2 Score Test: {test_score}\")\n",
    "    print('='*80)\n",
    "\n",
    "    relatorio['nome'].append(name)\n",
    "    relatorio['train_score'].append(train_score)\n",
    "    relatorio['cv_scores_mean'].append(np.mean(cv_scores))\n",
    "    relatorio['test_score'].append(test_score)\n",
    "    relatorio['estimador'].append(reg)"
   ]
  },
  {
   "cell_type": "code",
   "execution_count": 25,
   "metadata": {
    "ExecuteTime": {
     "end_time": "2021-09-10T02:34:36.402351Z",
     "start_time": "2021-09-10T02:34:36.345357Z"
    }
   },
   "outputs": [
    {
     "data": {
      "text/html": [
       "<div>\n",
       "<style scoped>\n",
       "    .dataframe tbody tr th:only-of-type {\n",
       "        vertical-align: middle;\n",
       "    }\n",
       "\n",
       "    .dataframe tbody tr th {\n",
       "        vertical-align: top;\n",
       "    }\n",
       "\n",
       "    .dataframe thead th {\n",
       "        text-align: right;\n",
       "    }\n",
       "</style>\n",
       "<table border=\"1\" class=\"dataframe\">\n",
       "  <thead>\n",
       "    <tr style=\"text-align: right;\">\n",
       "      <th></th>\n",
       "      <th>nome</th>\n",
       "      <th>train_score</th>\n",
       "      <th>cv_scores_mean</th>\n",
       "      <th>test_score</th>\n",
       "      <th>estimador</th>\n",
       "    </tr>\n",
       "  </thead>\n",
       "  <tbody>\n",
       "    <tr>\n",
       "      <th>33</th>\n",
       "      <td>PoissonRegressor</td>\n",
       "      <td>0.462981</td>\n",
       "      <td>0.439753</td>\n",
       "      <td>-0.080903</td>\n",
       "      <td>PoissonRegressor()</td>\n",
       "    </tr>\n",
       "    <tr>\n",
       "      <th>10</th>\n",
       "      <td>GammaRegressor</td>\n",
       "      <td>0.390893</td>\n",
       "      <td>0.383492</td>\n",
       "      <td>-0.124278</td>\n",
       "      <td>GammaRegressor()</td>\n",
       "    </tr>\n",
       "    <tr>\n",
       "      <th>3</th>\n",
       "      <td>BayesianRidge</td>\n",
       "      <td>0.384640</td>\n",
       "      <td>0.366188</td>\n",
       "      <td>-0.003599</td>\n",
       "      <td>BayesianRidge()</td>\n",
       "    </tr>\n",
       "    <tr>\n",
       "      <th>36</th>\n",
       "      <td>Ridge</td>\n",
       "      <td>0.384762</td>\n",
       "      <td>0.365943</td>\n",
       "      <td>-0.003780</td>\n",
       "      <td>Ridge()</td>\n",
       "    </tr>\n",
       "    <tr>\n",
       "      <th>19</th>\n",
       "      <td>Lasso</td>\n",
       "      <td>0.384758</td>\n",
       "      <td>0.365879</td>\n",
       "      <td>-0.003762</td>\n",
       "      <td>Lasso()</td>\n",
       "    </tr>\n",
       "    <tr>\n",
       "      <th>16</th>\n",
       "      <td>KernelRidge</td>\n",
       "      <td>0.384688</td>\n",
       "      <td>0.365820</td>\n",
       "      <td>-0.003839</td>\n",
       "      <td>KernelRidge()</td>\n",
       "    </tr>\n",
       "    <tr>\n",
       "      <th>41</th>\n",
       "      <td>TransformedTargetRegressor</td>\n",
       "      <td>0.384765</td>\n",
       "      <td>0.365813</td>\n",
       "      <td>-0.003810</td>\n",
       "      <td>TransformedTargetRegressor()</td>\n",
       "    </tr>\n",
       "    <tr>\n",
       "      <th>24</th>\n",
       "      <td>LinearRegression</td>\n",
       "      <td>0.384765</td>\n",
       "      <td>0.365813</td>\n",
       "      <td>-0.003810</td>\n",
       "      <td>LinearRegression()</td>\n",
       "    </tr>\n",
       "    <tr>\n",
       "      <th>17</th>\n",
       "      <td>Lars</td>\n",
       "      <td>0.384765</td>\n",
       "      <td>0.365813</td>\n",
       "      <td>-0.003810</td>\n",
       "      <td>Lars()</td>\n",
       "    </tr>\n",
       "    <tr>\n",
       "      <th>21</th>\n",
       "      <td>LassoLars</td>\n",
       "      <td>0.382801</td>\n",
       "      <td>0.365806</td>\n",
       "      <td>-0.002944</td>\n",
       "      <td>LassoLars()</td>\n",
       "    </tr>\n",
       "  </tbody>\n",
       "</table>\n",
       "</div>"
      ],
      "text/plain": [
       "                          nome  train_score  cv_scores_mean  test_score  \\\n",
       "33            PoissonRegressor     0.462981        0.439753   -0.080903   \n",
       "10              GammaRegressor     0.390893        0.383492   -0.124278   \n",
       "3                BayesianRidge     0.384640        0.366188   -0.003599   \n",
       "36                       Ridge     0.384762        0.365943   -0.003780   \n",
       "19                       Lasso     0.384758        0.365879   -0.003762   \n",
       "16                 KernelRidge     0.384688        0.365820   -0.003839   \n",
       "41  TransformedTargetRegressor     0.384765        0.365813   -0.003810   \n",
       "24            LinearRegression     0.384765        0.365813   -0.003810   \n",
       "17                        Lars     0.384765        0.365813   -0.003810   \n",
       "21                   LassoLars     0.382801        0.365806   -0.002944   \n",
       "\n",
       "                       estimador  \n",
       "33            PoissonRegressor()  \n",
       "10              GammaRegressor()  \n",
       "3                BayesianRidge()  \n",
       "36                       Ridge()  \n",
       "19                       Lasso()  \n",
       "16                 KernelRidge()  \n",
       "41  TransformedTargetRegressor()  \n",
       "24            LinearRegression()  \n",
       "17                        Lars()  \n",
       "21                   LassoLars()  "
      ]
     },
     "execution_count": 25,
     "metadata": {},
     "output_type": "execute_result"
    }
   ],
   "source": [
    "relatorio = pd.DataFrame(relatorio).sort_values(by='cv_scores_mean', ascending=False)\n",
    "relatorio.head(10)"
   ]
  },
  {
   "cell_type": "markdown",
   "metadata": {},
   "source": [
    "# TODO: Calibrar melhores estimadores usando GridSearchCV"
   ]
  },
  {
   "cell_type": "code",
   "execution_count": 26,
   "metadata": {
    "ExecuteTime": {
     "end_time": "2021-09-10T02:35:11.126400Z",
     "start_time": "2021-09-10T02:35:11.120388Z"
    }
   },
   "outputs": [],
   "source": [
    "## Usar GridSearchCV para calibrar os melhores estimadores\n",
    "from sklearn.model_selection import GridSearchCV"
   ]
  },
  {
   "cell_type": "markdown",
   "metadata": {},
   "source": [
    "# Combinar os melhores estimadores usando Stacking"
   ]
  },
  {
   "cell_type": "code",
   "execution_count": 27,
   "metadata": {
    "ExecuteTime": {
     "end_time": "2021-09-10T02:35:45.501624Z",
     "start_time": "2021-09-10T02:35:42.138620Z"
    }
   },
   "outputs": [
    {
     "name": "stderr",
     "output_type": "stream",
     "text": [
      "C:\\ProgramData\\Anaconda3\\lib\\site-packages\\sklearn\\_loss\\glm_distribution.py:246: RuntimeWarning: overflow encountered in power\n",
      "  return np.power(y_pred, self.power)\n",
      "C:\\ProgramData\\Anaconda3\\lib\\site-packages\\sklearn\\linear_model\\_glm\\glm.py:285: ConvergenceWarning: lbfgs failed to converge (status=1):\n",
      "STOP: TOTAL NO. of ITERATIONS REACHED LIMIT.\n",
      "\n",
      "Increase the number of iterations (max_iter) or scale the data as shown in:\n",
      "    https://scikit-learn.org/stable/modules/preprocessing.html\n",
      "  self.n_iter_ = _check_optimize_result(\"lbfgs\", opt_res)\n",
      "C:\\ProgramData\\Anaconda3\\lib\\site-packages\\sklearn\\linear_model\\_glm\\glm.py:285: ConvergenceWarning: lbfgs failed to converge (status=1):\n",
      "STOP: TOTAL NO. of ITERATIONS REACHED LIMIT.\n",
      "\n",
      "Increase the number of iterations (max_iter) or scale the data as shown in:\n",
      "    https://scikit-learn.org/stable/modules/preprocessing.html\n",
      "  self.n_iter_ = _check_optimize_result(\"lbfgs\", opt_res)\n",
      "C:\\ProgramData\\Anaconda3\\lib\\site-packages\\sklearn\\linear_model\\_glm\\glm.py:285: ConvergenceWarning: lbfgs failed to converge (status=1):\n",
      "STOP: TOTAL NO. of ITERATIONS REACHED LIMIT.\n",
      "\n",
      "Increase the number of iterations (max_iter) or scale the data as shown in:\n",
      "    https://scikit-learn.org/stable/modules/preprocessing.html\n",
      "  self.n_iter_ = _check_optimize_result(\"lbfgs\", opt_res)\n",
      "C:\\ProgramData\\Anaconda3\\lib\\site-packages\\sklearn\\linear_model\\_glm\\glm.py:285: ConvergenceWarning: lbfgs failed to converge (status=1):\n",
      "STOP: TOTAL NO. of ITERATIONS REACHED LIMIT.\n",
      "\n",
      "Increase the number of iterations (max_iter) or scale the data as shown in:\n",
      "    https://scikit-learn.org/stable/modules/preprocessing.html\n",
      "  self.n_iter_ = _check_optimize_result(\"lbfgs\", opt_res)\n",
      "C:\\ProgramData\\Anaconda3\\lib\\site-packages\\sklearn\\_loss\\glm_distribution.py:246: RuntimeWarning: overflow encountered in power\n",
      "  return np.power(y_pred, self.power)\n",
      "C:\\ProgramData\\Anaconda3\\lib\\site-packages\\sklearn\\_loss\\glm_distribution.py:246: RuntimeWarning: overflow encountered in power\n",
      "  return np.power(y_pred, self.power)\n",
      "C:\\ProgramData\\Anaconda3\\lib\\site-packages\\sklearn\\_loss\\glm_distribution.py:246: RuntimeWarning: overflow encountered in power\n",
      "  return np.power(y_pred, self.power)\n",
      "C:\\ProgramData\\Anaconda3\\lib\\site-packages\\sklearn\\_loss\\glm_distribution.py:246: RuntimeWarning: overflow encountered in power\n",
      "  return np.power(y_pred, self.power)\n",
      "C:\\ProgramData\\Anaconda3\\lib\\site-packages\\sklearn\\_loss\\glm_distribution.py:246: RuntimeWarning: overflow encountered in power\n",
      "  return np.power(y_pred, self.power)\n",
      "C:\\ProgramData\\Anaconda3\\lib\\site-packages\\sklearn\\linear_model\\_glm\\glm.py:285: ConvergenceWarning: lbfgs failed to converge (status=1):\n",
      "STOP: TOTAL NO. of ITERATIONS REACHED LIMIT.\n",
      "\n",
      "Increase the number of iterations (max_iter) or scale the data as shown in:\n",
      "    https://scikit-learn.org/stable/modules/preprocessing.html\n",
      "  self.n_iter_ = _check_optimize_result(\"lbfgs\", opt_res)\n",
      "C:\\ProgramData\\Anaconda3\\lib\\site-packages\\sklearn\\_loss\\glm_distribution.py:246: RuntimeWarning: overflow encountered in power\n",
      "  return np.power(y_pred, self.power)\n",
      "C:\\ProgramData\\Anaconda3\\lib\\site-packages\\sklearn\\linear_model\\_glm\\glm.py:285: ConvergenceWarning: lbfgs failed to converge (status=1):\n",
      "STOP: TOTAL NO. of ITERATIONS REACHED LIMIT.\n",
      "\n",
      "Increase the number of iterations (max_iter) or scale the data as shown in:\n",
      "    https://scikit-learn.org/stable/modules/preprocessing.html\n",
      "  self.n_iter_ = _check_optimize_result(\"lbfgs\", opt_res)\n",
      "C:\\ProgramData\\Anaconda3\\lib\\site-packages\\sklearn\\linear_model\\_glm\\glm.py:285: ConvergenceWarning: lbfgs failed to converge (status=1):\n",
      "STOP: TOTAL NO. of ITERATIONS REACHED LIMIT.\n",
      "\n",
      "Increase the number of iterations (max_iter) or scale the data as shown in:\n",
      "    https://scikit-learn.org/stable/modules/preprocessing.html\n",
      "  self.n_iter_ = _check_optimize_result(\"lbfgs\", opt_res)\n",
      "C:\\ProgramData\\Anaconda3\\lib\\site-packages\\sklearn\\linear_model\\_glm\\glm.py:285: ConvergenceWarning: lbfgs failed to converge (status=1):\n",
      "STOP: TOTAL NO. of ITERATIONS REACHED LIMIT.\n",
      "\n",
      "Increase the number of iterations (max_iter) or scale the data as shown in:\n",
      "    https://scikit-learn.org/stable/modules/preprocessing.html\n",
      "  self.n_iter_ = _check_optimize_result(\"lbfgs\", opt_res)\n",
      "C:\\ProgramData\\Anaconda3\\lib\\site-packages\\sklearn\\linear_model\\_glm\\glm.py:285: ConvergenceWarning: lbfgs failed to converge (status=1):\n",
      "STOP: TOTAL NO. of ITERATIONS REACHED LIMIT.\n",
      "\n",
      "Increase the number of iterations (max_iter) or scale the data as shown in:\n",
      "    https://scikit-learn.org/stable/modules/preprocessing.html\n",
      "  self.n_iter_ = _check_optimize_result(\"lbfgs\", opt_res)\n",
      "C:\\ProgramData\\Anaconda3\\lib\\site-packages\\sklearn\\linear_model\\_glm\\glm.py:285: ConvergenceWarning: lbfgs failed to converge (status=1):\n",
      "STOP: TOTAL NO. of ITERATIONS REACHED LIMIT.\n",
      "\n",
      "Increase the number of iterations (max_iter) or scale the data as shown in:\n",
      "    https://scikit-learn.org/stable/modules/preprocessing.html\n",
      "  self.n_iter_ = _check_optimize_result(\"lbfgs\", opt_res)\n",
      "C:\\ProgramData\\Anaconda3\\lib\\site-packages\\sklearn\\_loss\\glm_distribution.py:246: RuntimeWarning: overflow encountered in power\n",
      "  return np.power(y_pred, self.power)\n",
      "C:\\ProgramData\\Anaconda3\\lib\\site-packages\\sklearn\\_loss\\glm_distribution.py:246: RuntimeWarning: overflow encountered in power\n",
      "  return np.power(y_pred, self.power)\n",
      "C:\\ProgramData\\Anaconda3\\lib\\site-packages\\sklearn\\_loss\\glm_distribution.py:246: RuntimeWarning: overflow encountered in power\n",
      "  return np.power(y_pred, self.power)\n",
      "C:\\ProgramData\\Anaconda3\\lib\\site-packages\\sklearn\\_loss\\glm_distribution.py:246: RuntimeWarning: overflow encountered in power\n",
      "  return np.power(y_pred, self.power)\n",
      "C:\\ProgramData\\Anaconda3\\lib\\site-packages\\sklearn\\_loss\\glm_distribution.py:246: RuntimeWarning: overflow encountered in power\n",
      "  return np.power(y_pred, self.power)\n",
      "C:\\ProgramData\\Anaconda3\\lib\\site-packages\\sklearn\\linear_model\\_glm\\glm.py:285: ConvergenceWarning: lbfgs failed to converge (status=1):\n",
      "STOP: TOTAL NO. of ITERATIONS REACHED LIMIT.\n",
      "\n",
      "Increase the number of iterations (max_iter) or scale the data as shown in:\n",
      "    https://scikit-learn.org/stable/modules/preprocessing.html\n",
      "  self.n_iter_ = _check_optimize_result(\"lbfgs\", opt_res)\n",
      "C:\\ProgramData\\Anaconda3\\lib\\site-packages\\sklearn\\_loss\\glm_distribution.py:246: RuntimeWarning: overflow encountered in power\n",
      "  return np.power(y_pred, self.power)\n",
      "C:\\ProgramData\\Anaconda3\\lib\\site-packages\\sklearn\\linear_model\\_glm\\glm.py:285: ConvergenceWarning: lbfgs failed to converge (status=1):\n",
      "STOP: TOTAL NO. of ITERATIONS REACHED LIMIT.\n",
      "\n",
      "Increase the number of iterations (max_iter) or scale the data as shown in:\n",
      "    https://scikit-learn.org/stable/modules/preprocessing.html\n",
      "  self.n_iter_ = _check_optimize_result(\"lbfgs\", opt_res)\n",
      "C:\\ProgramData\\Anaconda3\\lib\\site-packages\\sklearn\\linear_model\\_glm\\glm.py:285: ConvergenceWarning: lbfgs failed to converge (status=1):\n",
      "STOP: TOTAL NO. of ITERATIONS REACHED LIMIT.\n",
      "\n",
      "Increase the number of iterations (max_iter) or scale the data as shown in:\n",
      "    https://scikit-learn.org/stable/modules/preprocessing.html\n",
      "  self.n_iter_ = _check_optimize_result(\"lbfgs\", opt_res)\n",
      "C:\\ProgramData\\Anaconda3\\lib\\site-packages\\sklearn\\linear_model\\_glm\\glm.py:285: ConvergenceWarning: lbfgs failed to converge (status=1):\n",
      "STOP: TOTAL NO. of ITERATIONS REACHED LIMIT.\n",
      "\n",
      "Increase the number of iterations (max_iter) or scale the data as shown in:\n",
      "    https://scikit-learn.org/stable/modules/preprocessing.html\n",
      "  self.n_iter_ = _check_optimize_result(\"lbfgs\", opt_res)\n",
      "C:\\ProgramData\\Anaconda3\\lib\\site-packages\\sklearn\\linear_model\\_glm\\glm.py:285: ConvergenceWarning: lbfgs failed to converge (status=1):\n",
      "STOP: TOTAL NO. of ITERATIONS REACHED LIMIT.\n",
      "\n",
      "Increase the number of iterations (max_iter) or scale the data as shown in:\n",
      "    https://scikit-learn.org/stable/modules/preprocessing.html\n",
      "  self.n_iter_ = _check_optimize_result(\"lbfgs\", opt_res)\n",
      "C:\\ProgramData\\Anaconda3\\lib\\site-packages\\sklearn\\_loss\\glm_distribution.py:246: RuntimeWarning: overflow encountered in power\n",
      "  return np.power(y_pred, self.power)\n",
      "C:\\ProgramData\\Anaconda3\\lib\\site-packages\\sklearn\\_loss\\glm_distribution.py:246: RuntimeWarning: overflow encountered in power\n",
      "  return np.power(y_pred, self.power)\n",
      "C:\\ProgramData\\Anaconda3\\lib\\site-packages\\sklearn\\_loss\\glm_distribution.py:246: RuntimeWarning: overflow encountered in power\n",
      "  return np.power(y_pred, self.power)\n",
      "C:\\ProgramData\\Anaconda3\\lib\\site-packages\\sklearn\\_loss\\glm_distribution.py:246: RuntimeWarning: overflow encountered in power\n",
      "  return np.power(y_pred, self.power)\n",
      "C:\\ProgramData\\Anaconda3\\lib\\site-packages\\sklearn\\_loss\\glm_distribution.py:246: RuntimeWarning: overflow encountered in power\n",
      "  return np.power(y_pred, self.power)\n"
     ]
    },
    {
     "name": "stderr",
     "output_type": "stream",
     "text": [
      "C:\\ProgramData\\Anaconda3\\lib\\site-packages\\sklearn\\linear_model\\_glm\\glm.py:285: ConvergenceWarning: lbfgs failed to converge (status=1):\n",
      "STOP: TOTAL NO. of ITERATIONS REACHED LIMIT.\n",
      "\n",
      "Increase the number of iterations (max_iter) or scale the data as shown in:\n",
      "    https://scikit-learn.org/stable/modules/preprocessing.html\n",
      "  self.n_iter_ = _check_optimize_result(\"lbfgs\", opt_res)\n",
      "C:\\ProgramData\\Anaconda3\\lib\\site-packages\\sklearn\\_loss\\glm_distribution.py:246: RuntimeWarning: overflow encountered in power\n",
      "  return np.power(y_pred, self.power)\n",
      "C:\\ProgramData\\Anaconda3\\lib\\site-packages\\sklearn\\linear_model\\_glm\\glm.py:285: ConvergenceWarning: lbfgs failed to converge (status=1):\n",
      "STOP: TOTAL NO. of ITERATIONS REACHED LIMIT.\n",
      "\n",
      "Increase the number of iterations (max_iter) or scale the data as shown in:\n",
      "    https://scikit-learn.org/stable/modules/preprocessing.html\n",
      "  self.n_iter_ = _check_optimize_result(\"lbfgs\", opt_res)\n",
      "C:\\ProgramData\\Anaconda3\\lib\\site-packages\\sklearn\\linear_model\\_glm\\glm.py:285: ConvergenceWarning: lbfgs failed to converge (status=1):\n",
      "STOP: TOTAL NO. of ITERATIONS REACHED LIMIT.\n",
      "\n",
      "Increase the number of iterations (max_iter) or scale the data as shown in:\n",
      "    https://scikit-learn.org/stable/modules/preprocessing.html\n",
      "  self.n_iter_ = _check_optimize_result(\"lbfgs\", opt_res)\n",
      "C:\\ProgramData\\Anaconda3\\lib\\site-packages\\sklearn\\linear_model\\_glm\\glm.py:285: ConvergenceWarning: lbfgs failed to converge (status=1):\n",
      "STOP: TOTAL NO. of ITERATIONS REACHED LIMIT.\n",
      "\n",
      "Increase the number of iterations (max_iter) or scale the data as shown in:\n",
      "    https://scikit-learn.org/stable/modules/preprocessing.html\n",
      "  self.n_iter_ = _check_optimize_result(\"lbfgs\", opt_res)\n",
      "C:\\ProgramData\\Anaconda3\\lib\\site-packages\\sklearn\\_loss\\glm_distribution.py:246: RuntimeWarning: overflow encountered in power\n",
      "  return np.power(y_pred, self.power)\n",
      "C:\\ProgramData\\Anaconda3\\lib\\site-packages\\sklearn\\_loss\\glm_distribution.py:246: RuntimeWarning: overflow encountered in power\n",
      "  return np.power(y_pred, self.power)\n",
      "C:\\ProgramData\\Anaconda3\\lib\\site-packages\\sklearn\\_loss\\glm_distribution.py:246: RuntimeWarning: overflow encountered in power\n",
      "  return np.power(y_pred, self.power)\n",
      "C:\\ProgramData\\Anaconda3\\lib\\site-packages\\sklearn\\_loss\\glm_distribution.py:246: RuntimeWarning: overflow encountered in power\n",
      "  return np.power(y_pred, self.power)\n",
      "C:\\ProgramData\\Anaconda3\\lib\\site-packages\\sklearn\\_loss\\glm_distribution.py:246: RuntimeWarning: overflow encountered in power\n",
      "  return np.power(y_pred, self.power)\n",
      "C:\\ProgramData\\Anaconda3\\lib\\site-packages\\sklearn\\linear_model\\_glm\\glm.py:285: ConvergenceWarning: lbfgs failed to converge (status=1):\n",
      "STOP: TOTAL NO. of ITERATIONS REACHED LIMIT.\n",
      "\n",
      "Increase the number of iterations (max_iter) or scale the data as shown in:\n",
      "    https://scikit-learn.org/stable/modules/preprocessing.html\n",
      "  self.n_iter_ = _check_optimize_result(\"lbfgs\", opt_res)\n",
      "C:\\ProgramData\\Anaconda3\\lib\\site-packages\\sklearn\\_loss\\glm_distribution.py:246: RuntimeWarning: overflow encountered in power\n",
      "  return np.power(y_pred, self.power)\n",
      "C:\\ProgramData\\Anaconda3\\lib\\site-packages\\sklearn\\linear_model\\_glm\\glm.py:285: ConvergenceWarning: lbfgs failed to converge (status=1):\n",
      "STOP: TOTAL NO. of ITERATIONS REACHED LIMIT.\n",
      "\n",
      "Increase the number of iterations (max_iter) or scale the data as shown in:\n",
      "    https://scikit-learn.org/stable/modules/preprocessing.html\n",
      "  self.n_iter_ = _check_optimize_result(\"lbfgs\", opt_res)\n",
      "C:\\ProgramData\\Anaconda3\\lib\\site-packages\\sklearn\\linear_model\\_glm\\glm.py:285: ConvergenceWarning: lbfgs failed to converge (status=1):\n",
      "STOP: TOTAL NO. of ITERATIONS REACHED LIMIT.\n",
      "\n",
      "Increase the number of iterations (max_iter) or scale the data as shown in:\n",
      "    https://scikit-learn.org/stable/modules/preprocessing.html\n",
      "  self.n_iter_ = _check_optimize_result(\"lbfgs\", opt_res)\n",
      "C:\\ProgramData\\Anaconda3\\lib\\site-packages\\sklearn\\linear_model\\_glm\\glm.py:285: ConvergenceWarning: lbfgs failed to converge (status=1):\n",
      "STOP: TOTAL NO. of ITERATIONS REACHED LIMIT.\n",
      "\n",
      "Increase the number of iterations (max_iter) or scale the data as shown in:\n",
      "    https://scikit-learn.org/stable/modules/preprocessing.html\n",
      "  self.n_iter_ = _check_optimize_result(\"lbfgs\", opt_res)\n",
      "C:\\ProgramData\\Anaconda3\\lib\\site-packages\\sklearn\\linear_model\\_glm\\glm.py:285: ConvergenceWarning: lbfgs failed to converge (status=1):\n",
      "STOP: TOTAL NO. of ITERATIONS REACHED LIMIT.\n",
      "\n",
      "Increase the number of iterations (max_iter) or scale the data as shown in:\n",
      "    https://scikit-learn.org/stable/modules/preprocessing.html\n",
      "  self.n_iter_ = _check_optimize_result(\"lbfgs\", opt_res)\n",
      "C:\\ProgramData\\Anaconda3\\lib\\site-packages\\sklearn\\_loss\\glm_distribution.py:246: RuntimeWarning: overflow encountered in power\n",
      "  return np.power(y_pred, self.power)\n",
      "C:\\ProgramData\\Anaconda3\\lib\\site-packages\\sklearn\\_loss\\glm_distribution.py:246: RuntimeWarning: overflow encountered in power\n",
      "  return np.power(y_pred, self.power)\n",
      "C:\\ProgramData\\Anaconda3\\lib\\site-packages\\sklearn\\_loss\\glm_distribution.py:246: RuntimeWarning: overflow encountered in power\n",
      "  return np.power(y_pred, self.power)\n",
      "C:\\ProgramData\\Anaconda3\\lib\\site-packages\\sklearn\\_loss\\glm_distribution.py:246: RuntimeWarning: overflow encountered in power\n",
      "  return np.power(y_pred, self.power)\n",
      "C:\\ProgramData\\Anaconda3\\lib\\site-packages\\sklearn\\_loss\\glm_distribution.py:246: RuntimeWarning: overflow encountered in power\n",
      "  return np.power(y_pred, self.power)\n",
      "C:\\ProgramData\\Anaconda3\\lib\\site-packages\\sklearn\\_loss\\glm_distribution.py:246: RuntimeWarning: overflow encountered in power\n",
      "  return np.power(y_pred, self.power)\n",
      "C:\\ProgramData\\Anaconda3\\lib\\site-packages\\sklearn\\linear_model\\_glm\\glm.py:285: ConvergenceWarning: lbfgs failed to converge (status=1):\n",
      "STOP: TOTAL NO. of ITERATIONS REACHED LIMIT.\n",
      "\n",
      "Increase the number of iterations (max_iter) or scale the data as shown in:\n",
      "    https://scikit-learn.org/stable/modules/preprocessing.html\n",
      "  self.n_iter_ = _check_optimize_result(\"lbfgs\", opt_res)\n",
      "C:\\ProgramData\\Anaconda3\\lib\\site-packages\\sklearn\\linear_model\\_glm\\glm.py:285: ConvergenceWarning: lbfgs failed to converge (status=1):\n",
      "STOP: TOTAL NO. of ITERATIONS REACHED LIMIT.\n",
      "\n",
      "Increase the number of iterations (max_iter) or scale the data as shown in:\n",
      "    https://scikit-learn.org/stable/modules/preprocessing.html\n",
      "  self.n_iter_ = _check_optimize_result(\"lbfgs\", opt_res)\n",
      "C:\\ProgramData\\Anaconda3\\lib\\site-packages\\sklearn\\linear_model\\_glm\\glm.py:285: ConvergenceWarning: lbfgs failed to converge (status=1):\n",
      "STOP: TOTAL NO. of ITERATIONS REACHED LIMIT.\n",
      "\n",
      "Increase the number of iterations (max_iter) or scale the data as shown in:\n",
      "    https://scikit-learn.org/stable/modules/preprocessing.html\n",
      "  self.n_iter_ = _check_optimize_result(\"lbfgs\", opt_res)\n",
      "C:\\ProgramData\\Anaconda3\\lib\\site-packages\\sklearn\\linear_model\\_glm\\glm.py:285: ConvergenceWarning: lbfgs failed to converge (status=1):\n",
      "STOP: TOTAL NO. of ITERATIONS REACHED LIMIT.\n",
      "\n",
      "Increase the number of iterations (max_iter) or scale the data as shown in:\n",
      "    https://scikit-learn.org/stable/modules/preprocessing.html\n",
      "  self.n_iter_ = _check_optimize_result(\"lbfgs\", opt_res)\n",
      "C:\\ProgramData\\Anaconda3\\lib\\site-packages\\sklearn\\_loss\\glm_distribution.py:246: RuntimeWarning: overflow encountered in power\n",
      "  return np.power(y_pred, self.power)\n",
      "C:\\ProgramData\\Anaconda3\\lib\\site-packages\\sklearn\\_loss\\glm_distribution.py:246: RuntimeWarning: overflow encountered in power\n",
      "  return np.power(y_pred, self.power)\n",
      "C:\\ProgramData\\Anaconda3\\lib\\site-packages\\sklearn\\_loss\\glm_distribution.py:246: RuntimeWarning: overflow encountered in power\n",
      "  return np.power(y_pred, self.power)\n",
      "C:\\ProgramData\\Anaconda3\\lib\\site-packages\\sklearn\\_loss\\glm_distribution.py:246: RuntimeWarning: overflow encountered in power\n",
      "  return np.power(y_pred, self.power)\n",
      "C:\\ProgramData\\Anaconda3\\lib\\site-packages\\sklearn\\_loss\\glm_distribution.py:246: RuntimeWarning: overflow encountered in power\n",
      "  return np.power(y_pred, self.power)\n"
     ]
    },
    {
     "name": "stdout",
     "output_type": "stream",
     "text": [
      "R2 Score Train: 0.39270797103981814\n",
      "R2 Score Valid: 0.35 +- 0.08\n",
      "R2 Score Test: -0.00326370342844462\n",
      "================================================================================\n"
     ]
    }
   ],
   "source": [
    "from sklearn.ensemble import StackingRegressor\n",
    "\n",
    "top_3_regs = relatorio[['nome', 'estimador']].values[:3]\n",
    "\n",
    "reg = StackingRegressor(\n",
    "    estimators=top_3_regs\n",
    ")\n",
    "\n",
    "reg.fit(X_train, y_train)\n",
    "\n",
    "train_score = reg.score(X_train, y_train)\n",
    "cv_scores = cross_val_score(reg, X_train, y_train)\n",
    "test_score = reg.score(X_test, y_test)\n",
    "\n",
    "print(f\"R2 Score Train: {train_score}\")\n",
    "print(f\"R2 Score Valid: {np.mean(cv_scores):.2f} +- {np.std(cv_scores):.2f}\")\n",
    "print(f\"R2 Score Test: {test_score}\")\n",
    "print('='*80)"
   ]
  },
  {
   "cell_type": "markdown",
   "metadata": {},
   "source": [
    "================================================================================\n",
    "\n",
    "Treinando Modelo XGBRegressor\n",
    "\n",
    "R2 Score Train: 0.8486142039346978\n",
    "\n",
    "R2 Score Valid: 0.05 +- 0.21\n",
    "\n",
    "R2 Score Test: -0.002254966901589217\n",
    "\n",
    "================================================================================"
   ]
  },
  {
   "cell_type": "code",
   "execution_count": null,
   "metadata": {},
   "outputs": [],
   "source": []
  }
 ],
 "metadata": {
  "hide_input": false,
  "kernelspec": {
   "display_name": "Python 3",
   "language": "python",
   "name": "python3"
  },
  "language_info": {
   "codemirror_mode": {
    "name": "ipython",
    "version": 3
   },
   "file_extension": ".py",
   "mimetype": "text/x-python",
   "name": "python",
   "nbconvert_exporter": "python",
   "pygments_lexer": "ipython3",
   "version": "3.8.5"
  }
 },
 "nbformat": 4,
 "nbformat_minor": 4
}
