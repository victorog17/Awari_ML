{
 "cells": [
  {
   "cell_type": "code",
   "execution_count": 1,
   "metadata": {
    "ExecuteTime": {
     "end_time": "2021-09-10T02:06:03.669981Z",
     "start_time": "2021-09-10T02:06:02.730663Z"
    }
   },
   "outputs": [],
   "source": [
    "from time import sleep\n",
    "import pandas as pd\n",
    "from bs4 import BeautifulSoup\n",
    "import requests"
   ]
  },
  {
   "cell_type": "code",
   "execution_count": 2,
   "metadata": {
    "ExecuteTime": {
     "end_time": "2021-09-10T02:06:14.037407Z",
     "start_time": "2021-09-10T02:06:14.019405Z"
    }
   },
   "outputs": [],
   "source": [
    "zonas = ['sul', 'norte', 'leste', 'oeste']\n",
    "paginas = ['', '_Desde_49', '_Desde_97', '_Desde_145', '_Desde_193', '_Desde_241']"
   ]
  },
  {
   "cell_type": "code",
   "execution_count": 3,
   "metadata": {
    "ExecuteTime": {
     "end_time": "2021-09-10T02:06:35.554737Z",
     "start_time": "2021-09-10T02:06:35.538731Z"
    }
   },
   "outputs": [],
   "source": [
    "def coleta_dados(url, zona):\n",
    "  # acessar a url, coletar as informacoes e ir salvando nas listas e depois juntar as listas em uma tabela\n",
    "  res = requests.get(url).content\n",
    "  sopa = BeautifulSoup(res)\n",
    "  \n",
    "  rs_precos = sopa.find_all('span', {'class': 'price-tag-fraction'})\n",
    "  rs_areas_quartos = sopa.find_all('ul', {'class': 'ui-search-card-attributes ui-search-item__group__element'})\n",
    "\n",
    "  lista_precos = []\n",
    "  lista_areas_quartos = []\n",
    "  lista_zonas = []\n",
    "    \n",
    "  for preco, area_quarto in zip(rs_precos, rs_areas_quartos):\n",
    "    lista_precos.append(preco.text)\n",
    "    lista_areas_quartos.append(area_quarto.text)\n",
    "    lista_zonas.append(zona)\n",
    "    \n",
    "  dados = {'aluguel': lista_precos,\n",
    "  'area_quarto': lista_areas_quartos,\n",
    "  'zona': lista_zonas}\n",
    "    \n",
    "  df = pd.DataFrame(dados)\n",
    "\n",
    "  return df"
   ]
  },
  {
   "cell_type": "code",
   "execution_count": 4,
   "metadata": {
    "ExecuteTime": {
     "end_time": "2021-09-10T02:08:26.423571Z",
     "start_time": "2021-09-10T02:06:42.832030Z"
    }
   },
   "outputs": [
    {
     "name": "stdout",
     "output_type": "stream",
     "text": [
      "Coletando dados de https://imoveis.mercadolivre.com.br/apartamentos/aluguel/sao-paulo/sao-paulo-zona-sul/\n",
      "Coletando dados de https://imoveis.mercadolivre.com.br/apartamentos/aluguel/sao-paulo/sao-paulo-zona-sul/_Desde_49\n",
      "Coletando dados de https://imoveis.mercadolivre.com.br/apartamentos/aluguel/sao-paulo/sao-paulo-zona-sul/_Desde_97\n",
      "Coletando dados de https://imoveis.mercadolivre.com.br/apartamentos/aluguel/sao-paulo/sao-paulo-zona-sul/_Desde_145\n",
      "Coletando dados de https://imoveis.mercadolivre.com.br/apartamentos/aluguel/sao-paulo/sao-paulo-zona-sul/_Desde_193\n",
      "Coletando dados de https://imoveis.mercadolivre.com.br/apartamentos/aluguel/sao-paulo/sao-paulo-zona-sul/_Desde_241\n",
      "Coletando dados de https://imoveis.mercadolivre.com.br/apartamentos/aluguel/sao-paulo/sao-paulo-zona-norte/\n",
      "Coletando dados de https://imoveis.mercadolivre.com.br/apartamentos/aluguel/sao-paulo/sao-paulo-zona-norte/_Desde_49\n",
      "Coletando dados de https://imoveis.mercadolivre.com.br/apartamentos/aluguel/sao-paulo/sao-paulo-zona-norte/_Desde_97\n",
      "Coletando dados de https://imoveis.mercadolivre.com.br/apartamentos/aluguel/sao-paulo/sao-paulo-zona-norte/_Desde_145\n",
      "Coletando dados de https://imoveis.mercadolivre.com.br/apartamentos/aluguel/sao-paulo/sao-paulo-zona-norte/_Desde_193\n",
      "Coletando dados de https://imoveis.mercadolivre.com.br/apartamentos/aluguel/sao-paulo/sao-paulo-zona-norte/_Desde_241\n",
      "Coletando dados de https://imoveis.mercadolivre.com.br/apartamentos/aluguel/sao-paulo/sao-paulo-zona-leste/\n",
      "Coletando dados de https://imoveis.mercadolivre.com.br/apartamentos/aluguel/sao-paulo/sao-paulo-zona-leste/_Desde_49\n",
      "Coletando dados de https://imoveis.mercadolivre.com.br/apartamentos/aluguel/sao-paulo/sao-paulo-zona-leste/_Desde_97\n",
      "Coletando dados de https://imoveis.mercadolivre.com.br/apartamentos/aluguel/sao-paulo/sao-paulo-zona-leste/_Desde_145\n",
      "Coletando dados de https://imoveis.mercadolivre.com.br/apartamentos/aluguel/sao-paulo/sao-paulo-zona-leste/_Desde_193\n",
      "Coletando dados de https://imoveis.mercadolivre.com.br/apartamentos/aluguel/sao-paulo/sao-paulo-zona-leste/_Desde_241\n",
      "Coletando dados de https://imoveis.mercadolivre.com.br/apartamentos/aluguel/sao-paulo/sao-paulo-zona-oeste/\n",
      "Coletando dados de https://imoveis.mercadolivre.com.br/apartamentos/aluguel/sao-paulo/sao-paulo-zona-oeste/_Desde_49\n",
      "Coletando dados de https://imoveis.mercadolivre.com.br/apartamentos/aluguel/sao-paulo/sao-paulo-zona-oeste/_Desde_97\n",
      "Coletando dados de https://imoveis.mercadolivre.com.br/apartamentos/aluguel/sao-paulo/sao-paulo-zona-oeste/_Desde_145\n",
      "Coletando dados de https://imoveis.mercadolivre.com.br/apartamentos/aluguel/sao-paulo/sao-paulo-zona-oeste/_Desde_193\n",
      "Coletando dados de https://imoveis.mercadolivre.com.br/apartamentos/aluguel/sao-paulo/sao-paulo-zona-oeste/_Desde_241\n"
     ]
    }
   ],
   "source": [
    "lista_dfs = []\n",
    "\n",
    "for zona in zonas:\n",
    "  # print('Zona:', zona)\n",
    "  for pagina in paginas:\n",
    "    # print('Pagina:', pagina)\n",
    "    url = f'https://imoveis.mercadolivre.com.br/apartamentos/aluguel/sao-paulo/sao-paulo-zona-{zona}/{pagina}'\n",
    "    print('Coletando dados de', url)\n",
    "    df = coleta_dados(url, zona) # retorna o df \n",
    "    lista_dfs.append(df)\n",
    "    sleep(2)"
   ]
  },
  {
   "cell_type": "code",
   "execution_count": 5,
   "metadata": {
    "ExecuteTime": {
     "end_time": "2021-09-10T02:08:26.455536Z",
     "start_time": "2021-09-10T02:08:26.427543Z"
    }
   },
   "outputs": [],
   "source": [
    "df_ml = pd.concat(lista_dfs, axis=0)"
   ]
  },
  {
   "cell_type": "code",
   "execution_count": 6,
   "metadata": {
    "ExecuteTime": {
     "end_time": "2021-09-10T02:08:26.517538Z",
     "start_time": "2021-09-10T02:08:26.461542Z"
    }
   },
   "outputs": [
    {
     "data": {
      "text/html": [
       "<div>\n",
       "<style scoped>\n",
       "    .dataframe tbody tr th:only-of-type {\n",
       "        vertical-align: middle;\n",
       "    }\n",
       "\n",
       "    .dataframe tbody tr th {\n",
       "        vertical-align: top;\n",
       "    }\n",
       "\n",
       "    .dataframe thead th {\n",
       "        text-align: right;\n",
       "    }\n",
       "</style>\n",
       "<table border=\"1\" class=\"dataframe\">\n",
       "  <thead>\n",
       "    <tr style=\"text-align: right;\">\n",
       "      <th></th>\n",
       "      <th>aluguel</th>\n",
       "      <th>area_quarto</th>\n",
       "      <th>zona</th>\n",
       "    </tr>\n",
       "  </thead>\n",
       "  <tbody>\n",
       "    <tr>\n",
       "      <th>0</th>\n",
       "      <td>21.000</td>\n",
       "      <td>265 m² construídos3 quartos</td>\n",
       "      <td>sul</td>\n",
       "    </tr>\n",
       "    <tr>\n",
       "      <th>1</th>\n",
       "      <td>2.000</td>\n",
       "      <td>45 m² construídos1 quarto</td>\n",
       "      <td>sul</td>\n",
       "    </tr>\n",
       "    <tr>\n",
       "      <th>2</th>\n",
       "      <td>1.499</td>\n",
       "      <td>45 m² construídos1 quarto</td>\n",
       "      <td>sul</td>\n",
       "    </tr>\n",
       "    <tr>\n",
       "      <th>3</th>\n",
       "      <td>4.500</td>\n",
       "      <td>112 m² construídos3 quartos</td>\n",
       "      <td>sul</td>\n",
       "    </tr>\n",
       "    <tr>\n",
       "      <th>4</th>\n",
       "      <td>4.500</td>\n",
       "      <td>125 m² construídos3 quartos</td>\n",
       "      <td>sul</td>\n",
       "    </tr>\n",
       "  </tbody>\n",
       "</table>\n",
       "</div>"
      ],
      "text/plain": [
       "  aluguel                  area_quarto zona\n",
       "0  21.000  265 m² construídos3 quartos  sul\n",
       "1   2.000    45 m² construídos1 quarto  sul\n",
       "2   1.499    45 m² construídos1 quarto  sul\n",
       "3   4.500  112 m² construídos3 quartos  sul\n",
       "4   4.500  125 m² construídos3 quartos  sul"
      ]
     },
     "execution_count": 6,
     "metadata": {},
     "output_type": "execute_result"
    }
   ],
   "source": [
    "df_ml.head()"
   ]
  },
  {
   "cell_type": "code",
   "execution_count": 7,
   "metadata": {
    "ExecuteTime": {
     "end_time": "2021-09-10T02:08:26.549539Z",
     "start_time": "2021-09-10T02:08:26.523547Z"
    }
   },
   "outputs": [
    {
     "data": {
      "text/plain": [
       "(1132, 3)"
      ]
     },
     "execution_count": 7,
     "metadata": {},
     "output_type": "execute_result"
    }
   ],
   "source": [
    "df_ml.shape"
   ]
  },
  {
   "cell_type": "code",
   "execution_count": 8,
   "metadata": {
    "ExecuteTime": {
     "end_time": "2021-09-10T02:08:26.581539Z",
     "start_time": "2021-09-10T02:08:26.556538Z"
    }
   },
   "outputs": [
    {
     "data": {
      "text/plain": [
       "pandas.core.series.Series"
      ]
     },
     "execution_count": 8,
     "metadata": {},
     "output_type": "execute_result"
    }
   ],
   "source": [
    "type(df_ml['aluguel'])"
   ]
  },
  {
   "cell_type": "code",
   "execution_count": 9,
   "metadata": {
    "ExecuteTime": {
     "end_time": "2021-09-10T02:08:26.597541Z",
     "start_time": "2021-09-10T02:08:26.585545Z"
    }
   },
   "outputs": [
    {
     "data": {
      "text/plain": [
       "numpy.ndarray"
      ]
     },
     "execution_count": 9,
     "metadata": {},
     "output_type": "execute_result"
    }
   ],
   "source": [
    "type(df_ml['aluguel'].values)"
   ]
  },
  {
   "cell_type": "code",
   "execution_count": 10,
   "metadata": {
    "ExecuteTime": {
     "end_time": "2021-09-10T02:08:26.613540Z",
     "start_time": "2021-09-10T02:08:26.601544Z"
    }
   },
   "outputs": [
    {
     "data": {
      "text/plain": [
       "str"
      ]
     },
     "execution_count": 10,
     "metadata": {},
     "output_type": "execute_result"
    }
   ],
   "source": [
    "type(df_ml['aluguel'].values[0])"
   ]
  },
  {
   "cell_type": "code",
   "execution_count": 15,
   "metadata": {
    "ExecuteTime": {
     "end_time": "2021-09-10T02:09:58.392121Z",
     "start_time": "2021-09-10T02:09:58.378100Z"
    }
   },
   "outputs": [],
   "source": [
    "df_ml.to_csv('../coleta_de_dados/dados_mercado_livre.csv', index=False)"
   ]
  },
  {
   "cell_type": "code",
   "execution_count": 16,
   "metadata": {
    "ExecuteTime": {
     "end_time": "2021-09-10T02:10:02.537930Z",
     "start_time": "2021-09-10T02:10:02.494904Z"
    }
   },
   "outputs": [
    {
     "data": {
      "text/html": [
       "<div>\n",
       "<style scoped>\n",
       "    .dataframe tbody tr th:only-of-type {\n",
       "        vertical-align: middle;\n",
       "    }\n",
       "\n",
       "    .dataframe tbody tr th {\n",
       "        vertical-align: top;\n",
       "    }\n",
       "\n",
       "    .dataframe thead th {\n",
       "        text-align: right;\n",
       "    }\n",
       "</style>\n",
       "<table border=\"1\" class=\"dataframe\">\n",
       "  <thead>\n",
       "    <tr style=\"text-align: right;\">\n",
       "      <th></th>\n",
       "      <th>aluguel</th>\n",
       "      <th>area_quarto</th>\n",
       "      <th>zona</th>\n",
       "    </tr>\n",
       "  </thead>\n",
       "  <tbody>\n",
       "    <tr>\n",
       "      <th>0</th>\n",
       "      <td>21000</td>\n",
       "      <td>265 m² construídos3 quartos</td>\n",
       "      <td>sul</td>\n",
       "    </tr>\n",
       "    <tr>\n",
       "      <th>1</th>\n",
       "      <td>2000</td>\n",
       "      <td>45 m² construídos1 quarto</td>\n",
       "      <td>sul</td>\n",
       "    </tr>\n",
       "    <tr>\n",
       "      <th>2</th>\n",
       "      <td>1499</td>\n",
       "      <td>45 m² construídos1 quarto</td>\n",
       "      <td>sul</td>\n",
       "    </tr>\n",
       "    <tr>\n",
       "      <th>3</th>\n",
       "      <td>4500</td>\n",
       "      <td>112 m² construídos3 quartos</td>\n",
       "      <td>sul</td>\n",
       "    </tr>\n",
       "    <tr>\n",
       "      <th>4</th>\n",
       "      <td>4500</td>\n",
       "      <td>125 m² construídos3 quartos</td>\n",
       "      <td>sul</td>\n",
       "    </tr>\n",
       "    <tr>\n",
       "      <th>...</th>\n",
       "      <td>...</td>\n",
       "      <td>...</td>\n",
       "      <td>...</td>\n",
       "    </tr>\n",
       "    <tr>\n",
       "      <th>1127</th>\n",
       "      <td>1500</td>\n",
       "      <td>40 m² construídos1 quarto</td>\n",
       "      <td>oeste</td>\n",
       "    </tr>\n",
       "    <tr>\n",
       "      <th>1128</th>\n",
       "      <td>9300</td>\n",
       "      <td>186 m² construídos3 quartos</td>\n",
       "      <td>oeste</td>\n",
       "    </tr>\n",
       "    <tr>\n",
       "      <th>1129</th>\n",
       "      <td>2000</td>\n",
       "      <td>70 m² construídos2 quartos</td>\n",
       "      <td>oeste</td>\n",
       "    </tr>\n",
       "    <tr>\n",
       "      <th>1130</th>\n",
       "      <td>1600</td>\n",
       "      <td>50 m² construídos2 quartos</td>\n",
       "      <td>oeste</td>\n",
       "    </tr>\n",
       "    <tr>\n",
       "      <th>1131</th>\n",
       "      <td>1400</td>\n",
       "      <td>50 m² construídos1 quarto</td>\n",
       "      <td>oeste</td>\n",
       "    </tr>\n",
       "  </tbody>\n",
       "</table>\n",
       "<p>1132 rows × 3 columns</p>\n",
       "</div>"
      ],
      "text/plain": [
       "      aluguel                  area_quarto   zona\n",
       "0       21000  265 m² construídos3 quartos    sul\n",
       "1        2000    45 m² construídos1 quarto    sul\n",
       "2        1499    45 m² construídos1 quarto    sul\n",
       "3        4500  112 m² construídos3 quartos    sul\n",
       "4        4500  125 m² construídos3 quartos    sul\n",
       "...       ...                          ...    ...\n",
       "1127     1500    40 m² construídos1 quarto  oeste\n",
       "1128     9300  186 m² construídos3 quartos  oeste\n",
       "1129     2000   70 m² construídos2 quartos  oeste\n",
       "1130     1600   50 m² construídos2 quartos  oeste\n",
       "1131     1400    50 m² construídos1 quarto  oeste\n",
       "\n",
       "[1132 rows x 3 columns]"
      ]
     },
     "execution_count": 16,
     "metadata": {},
     "output_type": "execute_result"
    }
   ],
   "source": [
    "pd.read_csv('dados_mercado_livre.csv', thousands='.')"
   ]
  },
  {
   "cell_type": "code",
   "execution_count": null,
   "metadata": {},
   "outputs": [],
   "source": []
  }
 ],
 "metadata": {
  "hide_input": false,
  "kernelspec": {
   "display_name": "Python 3",
   "language": "python",
   "name": "python3"
  },
  "language_info": {
   "codemirror_mode": {
    "name": "ipython",
    "version": 3
   },
   "file_extension": ".py",
   "mimetype": "text/x-python",
   "name": "python",
   "nbconvert_exporter": "python",
   "pygments_lexer": "ipython3",
   "version": "3.8.5"
  }
 },
 "nbformat": 4,
 "nbformat_minor": 4
}
